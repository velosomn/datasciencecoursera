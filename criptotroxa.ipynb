{
  "metadata": {
    "kernelspec": {
      "language": "python",
      "display_name": "Python 3",
      "name": "python3"
    },
    "language_info": {
      "name": "python",
      "version": "3.7.12",
      "mimetype": "text/x-python",
      "codemirror_mode": {
        "name": "ipython",
        "version": 3
      },
      "pygments_lexer": "ipython3",
      "nbconvert_exporter": "python",
      "file_extension": ".py"
    },
    "colab": {
      "name": "criptotroxa.ipynb",
      "provenance": [],
      "collapsed_sections": [],
      "include_colab_link": true
    }
  },
  "nbformat_minor": 0,
  "nbformat": 4,
  "cells": [
    {
      "cell_type": "markdown",
      "metadata": {
        "id": "view-in-github",
        "colab_type": "text"
      },
      "source": [
        "<a href=\"https://colab.research.google.com/github/velosomn/datasciencecoursera/blob/master/criptotroxa.ipynb\" target=\"_parent\"><img src=\"https://colab.research.google.com/assets/colab-badge.svg\" alt=\"Open In Colab\"/></a>"
      ]
    },
    {
      "cell_type": "code",
      "source": [
        "# This Python 3 environment comes with many helpful analytics libraries installed\n",
        "# It is defined by the kaggle/python Docker image: https://github.com/kaggle/docker-python\n",
        "# For example, here's several helpful packages to load\n",
        "\n",
        "import numpy as np # linear algebra\n",
        "import pandas as pd # data processing, CSV file I/O (e.g. pd.read_csv)\n",
        "\n",
        "# Input data files are available in the read-only \"../input/\" directory\n",
        "# For example, running this (by clicking run or pressing Shift+Enter) will list all files under the input directory\n",
        "\n",
        "import os\n",
        "for dirname, _, filenames in os.walk('/kaggle/input'):\n",
        "    for filename in filenames:\n",
        "        print(os.path.join(dirname, filename))\n",
        "\n",
        "# You can write up to 20GB to the current directory (/kaggle/working/) that gets preserved as output when you create a version using \"Save & Run All\" \n",
        "# You can also write temporary files to /kaggle/temp/, but they won't be saved outside of the current session"
      ],
      "metadata": {
        "_uuid": "8f2839f25d086af736a60e9eeb907d3b93b6e0e5",
        "_cell_guid": "b1076dfc-b9ad-4769-8c92-a6c4dae69d19",
        "scrolled": true,
        "_kg_hide-output": false,
        "execution": {
          "iopub.status.busy": "2022-02-01T23:38:04.655505Z",
          "iopub.status.idle": "2022-02-01T23:38:04.656106Z",
          "shell.execute_reply.started": "2022-02-01T23:38:04.655817Z",
          "shell.execute_reply": "2022-02-01T23:38:04.655848Z"
        },
        "trusted": true,
        "id": "FHTzjvYGJgmI"
      },
      "execution_count": 1,
      "outputs": []
    },
    {
      "cell_type": "code",
      "source": [
        "import pandas as pd\n",
        "import numpy as np\n",
        "from datetime import datetime\n",
        "\n",
        "import time\n",
        "\n",
        "totimestamp = lambda s: np.int32(time.mktime(datetime.strptime(s, \"%d/%m/%Y\").timetuple()))"
      ],
      "metadata": {
        "execution": {
          "iopub.status.busy": "2022-02-01T23:38:04.660812Z",
          "iopub.status.idle": "2022-02-01T23:38:04.661200Z",
          "shell.execute_reply.started": "2022-02-01T23:38:04.660991Z",
          "shell.execute_reply": "2022-02-01T23:38:04.661009Z"
        },
        "trusted": true,
        "id": "oSXRGGDCJgmM"
      },
      "execution_count": 2,
      "outputs": []
    },
    {
      "cell_type": "code",
      "source": [
        "from google.colab import drive\n",
        "drive.mount('/content/gdrive')\n",
        "!ls \"gdrive/My Drive/Colab Notebooks/Kaggle\""
      ],
      "metadata": {
        "execution": {
          "iopub.status.busy": "2022-02-01T23:38:04.662150Z",
          "iopub.status.idle": "2022-02-01T23:38:04.662583Z",
          "shell.execute_reply.started": "2022-02-01T23:38:04.662393Z",
          "shell.execute_reply": "2022-02-01T23:38:04.662422Z"
        },
        "trusted": true,
        "colab": {
          "base_uri": "https://localhost:8080/"
        },
        "id": "tvIo5C6EJgmN",
        "outputId": "e0ca5638-8810-4ddb-952f-1d943602b6b0"
      },
      "execution_count": 5,
      "outputs": [
        {
          "output_type": "stream",
          "name": "stdout",
          "text": [
            "Drive already mounted at /content/gdrive; to attempt to forcibly remount, call drive.mount(\"/content/gdrive\", force_remount=True).\n",
            " Antigo\t\t\t       'Material Sabatina.rar'\t Prova.pdf\n",
            "'Conversa com Helder.rtf'      'Prova agosto 21'\t provinha.R\n",
            "'Conversa prova Gustavo.docx'  'Prova agosto 21.rar'\t'Results 2.xlsx'\n",
            "'Cópia de Prova (1).ipynb'      Prova.docx\t\t Results.xlsx\n",
            "'Cópia de Prova.ipynb'\t       'Prova Fotos (1).ipynb'\t Simulado.ipynb\n",
            " Kaggle\t\t\t       'Prova Fotos.ipynb'\t Templates.ipynb\n",
            "'Material Sabatina'\t        Prova.ipynb\t\t Untitled\n"
          ]
        }
      ]
    },
    {
      "cell_type": "code",
      "source": [
        "!ls \"gdrive/My Drive/Colab Notebooks/Kaggle/g_research_competition\""
      ],
      "metadata": {
        "colab": {
          "base_uri": "https://localhost:8080/"
        },
        "id": "26raVwcRhl9E",
        "outputId": "8bdaa9af-ee47-4470-d702-8c89e2a46aca"
      },
      "execution_count": 11,
      "outputs": [
        {
          "output_type": "stream",
          "name": "stdout",
          "text": [
            "asset_details.csv\t       example_test.csv\t\t   treinocompactado.zip\n",
            "example_sample_submission.csv  supplemental_train.csv.zip\n"
          ]
        }
      ]
    },
    {
      "cell_type": "code",
      "source": [
        "import zipfile\n",
        "base_treino=0\n",
        "with zipfile.ZipFile(\"gdrive/My Drive/Colab Notebooks/Kaggle/g_research_competition/treinocompactado.zip\", 'r') as zip_ref:\n",
        "  base_treino = pd.read_csv(zip_ref.open('train.csv'))"
      ],
      "metadata": {
        "execution": {
          "iopub.status.busy": "2022-02-01T23:38:04.663875Z",
          "iopub.status.idle": "2022-02-01T23:38:04.664242Z",
          "shell.execute_reply.started": "2022-02-01T23:38:04.664033Z",
          "shell.execute_reply": "2022-02-01T23:38:04.664056Z"
        },
        "trusted": true,
        "id": "TV-tki04JgmP"
      },
      "execution_count": 12,
      "outputs": []
    },
    {
      "cell_type": "code",
      "source": [
        "base_treino[\"dia_semana\"]=pd.to_datetime(base_treino['timestamp'], unit='s').dt.dayofweek\n",
        "base_treino['hora'] = pd.to_datetime(base_treino['timestamp'], unit='s').dt.hour"
      ],
      "metadata": {
        "execution": {
          "iopub.status.busy": "2022-02-01T23:38:04.665898Z",
          "iopub.status.idle": "2022-02-01T23:38:04.666668Z",
          "shell.execute_reply.started": "2022-02-01T23:38:04.666398Z",
          "shell.execute_reply": "2022-02-01T23:38:04.666427Z"
        },
        "trusted": true,
        "id": "PlY5AqTAJgmQ"
      },
      "execution_count": 13,
      "outputs": []
    },
    {
      "cell_type": "code",
      "source": [
        "base_treino.sample(100)"
      ],
      "metadata": {
        "execution": {
          "iopub.status.busy": "2022-02-01T23:38:04.668140Z",
          "iopub.status.idle": "2022-02-01T23:38:04.668640Z",
          "shell.execute_reply.started": "2022-02-01T23:38:04.668365Z",
          "shell.execute_reply": "2022-02-01T23:38:04.668392Z"
        },
        "trusted": true,
        "colab": {
          "base_uri": "https://localhost:8080/",
          "height": 424
        },
        "id": "n1QT5A8VJgmR",
        "outputId": "58ce4d18-24bd-4034-c68f-44bfd74358eb"
      },
      "execution_count": 14,
      "outputs": [
        {
          "output_type": "execute_result",
          "data": {
            "text/html": [
              "\n",
              "  <div id=\"df-c1067917-99b8-462b-8cfc-6a12daf28aec\">\n",
              "    <div class=\"colab-df-container\">\n",
              "      <div>\n",
              "<style scoped>\n",
              "    .dataframe tbody tr th:only-of-type {\n",
              "        vertical-align: middle;\n",
              "    }\n",
              "\n",
              "    .dataframe tbody tr th {\n",
              "        vertical-align: top;\n",
              "    }\n",
              "\n",
              "    .dataframe thead th {\n",
              "        text-align: right;\n",
              "    }\n",
              "</style>\n",
              "<table border=\"1\" class=\"dataframe\">\n",
              "  <thead>\n",
              "    <tr style=\"text-align: right;\">\n",
              "      <th></th>\n",
              "      <th>timestamp</th>\n",
              "      <th>Asset_ID</th>\n",
              "      <th>Count</th>\n",
              "      <th>Open</th>\n",
              "      <th>High</th>\n",
              "      <th>Low</th>\n",
              "      <th>Close</th>\n",
              "      <th>Volume</th>\n",
              "      <th>VWAP</th>\n",
              "      <th>Target</th>\n",
              "      <th>dia_semana</th>\n",
              "      <th>hora</th>\n",
              "    </tr>\n",
              "  </thead>\n",
              "  <tbody>\n",
              "    <tr>\n",
              "      <th>3899038</th>\n",
              "      <td>1537929900</td>\n",
              "      <td>1</td>\n",
              "      <td>130.0</td>\n",
              "      <td>6405.552500</td>\n",
              "      <td>6409.9200</td>\n",
              "      <td>6400.29000</td>\n",
              "      <td>6406.465000</td>\n",
              "      <td>24.838969</td>\n",
              "      <td>6405.875307</td>\n",
              "      <td>0.000528</td>\n",
              "      <td>2</td>\n",
              "      <td>2</td>\n",
              "    </tr>\n",
              "    <tr>\n",
              "      <th>16149967</th>\n",
              "      <td>1597368060</td>\n",
              "      <td>11</td>\n",
              "      <td>17.0</td>\n",
              "      <td>92.080000</td>\n",
              "      <td>92.1100</td>\n",
              "      <td>91.99000</td>\n",
              "      <td>92.025000</td>\n",
              "      <td>102.691590</td>\n",
              "      <td>92.038798</td>\n",
              "      <td>0.002339</td>\n",
              "      <td>4</td>\n",
              "      <td>1</td>\n",
              "    </tr>\n",
              "    <tr>\n",
              "      <th>8707670</th>\n",
              "      <td>1561739520</td>\n",
              "      <td>7</td>\n",
              "      <td>115.0</td>\n",
              "      <td>8.101180</td>\n",
              "      <td>8.4690</td>\n",
              "      <td>7.92600</td>\n",
              "      <td>8.120460</td>\n",
              "      <td>3342.756214</td>\n",
              "      <td>8.111886</td>\n",
              "      <td>0.008808</td>\n",
              "      <td>4</td>\n",
              "      <td>16</td>\n",
              "    </tr>\n",
              "    <tr>\n",
              "      <th>20748271</th>\n",
              "      <td>1617227160</td>\n",
              "      <td>10</td>\n",
              "      <td>24.0</td>\n",
              "      <td>2124.404867</td>\n",
              "      <td>2127.1661</td>\n",
              "      <td>2123.32000</td>\n",
              "      <td>2125.247600</td>\n",
              "      <td>2.526041</td>\n",
              "      <td>2124.497420</td>\n",
              "      <td>0.002203</td>\n",
              "      <td>2</td>\n",
              "      <td>21</td>\n",
              "    </tr>\n",
              "    <tr>\n",
              "      <th>5480315</th>\n",
              "      <td>1546027560</td>\n",
              "      <td>11</td>\n",
              "      <td>1.0</td>\n",
              "      <td>49.800000</td>\n",
              "      <td>49.8000</td>\n",
              "      <td>49.80000</td>\n",
              "      <td>49.800000</td>\n",
              "      <td>1.687029</td>\n",
              "      <td>49.800000</td>\n",
              "      <td>NaN</td>\n",
              "      <td>4</td>\n",
              "      <td>20</td>\n",
              "    </tr>\n",
              "    <tr>\n",
              "      <th>...</th>\n",
              "      <td>...</td>\n",
              "      <td>...</td>\n",
              "      <td>...</td>\n",
              "      <td>...</td>\n",
              "      <td>...</td>\n",
              "      <td>...</td>\n",
              "      <td>...</td>\n",
              "      <td>...</td>\n",
              "      <td>...</td>\n",
              "      <td>...</td>\n",
              "      <td>...</td>\n",
              "      <td>...</td>\n",
              "    </tr>\n",
              "    <tr>\n",
              "      <th>23697386</th>\n",
              "      <td>1629870300</td>\n",
              "      <td>4</td>\n",
              "      <td>360.0</td>\n",
              "      <td>0.292897</td>\n",
              "      <td>0.2932</td>\n",
              "      <td>0.29258</td>\n",
              "      <td>0.292838</td>\n",
              "      <td>942119.708228</td>\n",
              "      <td>0.292802</td>\n",
              "      <td>0.006319</td>\n",
              "      <td>2</td>\n",
              "      <td>5</td>\n",
              "    </tr>\n",
              "    <tr>\n",
              "      <th>2268186</th>\n",
              "      <td>1529378520</td>\n",
              "      <td>0</td>\n",
              "      <td>54.0</td>\n",
              "      <td>16.412100</td>\n",
              "      <td>16.4739</td>\n",
              "      <td>16.41200</td>\n",
              "      <td>16.473800</td>\n",
              "      <td>1558.800000</td>\n",
              "      <td>16.462204</td>\n",
              "      <td>0.001564</td>\n",
              "      <td>1</td>\n",
              "      <td>3</td>\n",
              "    </tr>\n",
              "    <tr>\n",
              "      <th>8460639</th>\n",
              "      <td>1560594960</td>\n",
              "      <td>1</td>\n",
              "      <td>332.0</td>\n",
              "      <td>8656.303333</td>\n",
              "      <td>8681.8300</td>\n",
              "      <td>8634.20000</td>\n",
              "      <td>8656.096667</td>\n",
              "      <td>18.741554</td>\n",
              "      <td>8656.981482</td>\n",
              "      <td>0.001598</td>\n",
              "      <td>5</td>\n",
              "      <td>10</td>\n",
              "    </tr>\n",
              "    <tr>\n",
              "      <th>20225514</th>\n",
              "      <td>1614986700</td>\n",
              "      <td>9</td>\n",
              "      <td>479.0</td>\n",
              "      <td>180.446667</td>\n",
              "      <td>180.7600</td>\n",
              "      <td>180.08000</td>\n",
              "      <td>180.330667</td>\n",
              "      <td>1493.456564</td>\n",
              "      <td>180.322629</td>\n",
              "      <td>-0.001362</td>\n",
              "      <td>4</td>\n",
              "      <td>23</td>\n",
              "    </tr>\n",
              "    <tr>\n",
              "      <th>18243235</th>\n",
              "      <td>1606478880</td>\n",
              "      <td>6</td>\n",
              "      <td>411.0</td>\n",
              "      <td>509.383333</td>\n",
              "      <td>511.3400</td>\n",
              "      <td>508.60000</td>\n",
              "      <td>509.315000</td>\n",
              "      <td>683.558094</td>\n",
              "      <td>509.408067</td>\n",
              "      <td>0.000763</td>\n",
              "      <td>4</td>\n",
              "      <td>12</td>\n",
              "    </tr>\n",
              "  </tbody>\n",
              "</table>\n",
              "<p>100 rows × 12 columns</p>\n",
              "</div>\n",
              "      <button class=\"colab-df-convert\" onclick=\"convertToInteractive('df-c1067917-99b8-462b-8cfc-6a12daf28aec')\"\n",
              "              title=\"Convert this dataframe to an interactive table.\"\n",
              "              style=\"display:none;\">\n",
              "        \n",
              "  <svg xmlns=\"http://www.w3.org/2000/svg\" height=\"24px\"viewBox=\"0 0 24 24\"\n",
              "       width=\"24px\">\n",
              "    <path d=\"M0 0h24v24H0V0z\" fill=\"none\"/>\n",
              "    <path d=\"M18.56 5.44l.94 2.06.94-2.06 2.06-.94-2.06-.94-.94-2.06-.94 2.06-2.06.94zm-11 1L8.5 8.5l.94-2.06 2.06-.94-2.06-.94L8.5 2.5l-.94 2.06-2.06.94zm10 10l.94 2.06.94-2.06 2.06-.94-2.06-.94-.94-2.06-.94 2.06-2.06.94z\"/><path d=\"M17.41 7.96l-1.37-1.37c-.4-.4-.92-.59-1.43-.59-.52 0-1.04.2-1.43.59L10.3 9.45l-7.72 7.72c-.78.78-.78 2.05 0 2.83L4 21.41c.39.39.9.59 1.41.59.51 0 1.02-.2 1.41-.59l7.78-7.78 2.81-2.81c.8-.78.8-2.07 0-2.86zM5.41 20L4 18.59l7.72-7.72 1.47 1.35L5.41 20z\"/>\n",
              "  </svg>\n",
              "      </button>\n",
              "      \n",
              "  <style>\n",
              "    .colab-df-container {\n",
              "      display:flex;\n",
              "      flex-wrap:wrap;\n",
              "      gap: 12px;\n",
              "    }\n",
              "\n",
              "    .colab-df-convert {\n",
              "      background-color: #E8F0FE;\n",
              "      border: none;\n",
              "      border-radius: 50%;\n",
              "      cursor: pointer;\n",
              "      display: none;\n",
              "      fill: #1967D2;\n",
              "      height: 32px;\n",
              "      padding: 0 0 0 0;\n",
              "      width: 32px;\n",
              "    }\n",
              "\n",
              "    .colab-df-convert:hover {\n",
              "      background-color: #E2EBFA;\n",
              "      box-shadow: 0px 1px 2px rgba(60, 64, 67, 0.3), 0px 1px 3px 1px rgba(60, 64, 67, 0.15);\n",
              "      fill: #174EA6;\n",
              "    }\n",
              "\n",
              "    [theme=dark] .colab-df-convert {\n",
              "      background-color: #3B4455;\n",
              "      fill: #D2E3FC;\n",
              "    }\n",
              "\n",
              "    [theme=dark] .colab-df-convert:hover {\n",
              "      background-color: #434B5C;\n",
              "      box-shadow: 0px 1px 3px 1px rgba(0, 0, 0, 0.15);\n",
              "      filter: drop-shadow(0px 1px 2px rgba(0, 0, 0, 0.3));\n",
              "      fill: #FFFFFF;\n",
              "    }\n",
              "  </style>\n",
              "\n",
              "      <script>\n",
              "        const buttonEl =\n",
              "          document.querySelector('#df-c1067917-99b8-462b-8cfc-6a12daf28aec button.colab-df-convert');\n",
              "        buttonEl.style.display =\n",
              "          google.colab.kernel.accessAllowed ? 'block' : 'none';\n",
              "\n",
              "        async function convertToInteractive(key) {\n",
              "          const element = document.querySelector('#df-c1067917-99b8-462b-8cfc-6a12daf28aec');\n",
              "          const dataTable =\n",
              "            await google.colab.kernel.invokeFunction('convertToInteractive',\n",
              "                                                     [key], {});\n",
              "          if (!dataTable) return;\n",
              "\n",
              "          const docLinkHtml = 'Like what you see? Visit the ' +\n",
              "            '<a target=\"_blank\" href=https://colab.research.google.com/notebooks/data_table.ipynb>data table notebook</a>'\n",
              "            + ' to learn more about interactive tables.';\n",
              "          element.innerHTML = '';\n",
              "          dataTable['output_type'] = 'display_data';\n",
              "          await google.colab.output.renderOutput(dataTable, element);\n",
              "          const docLink = document.createElement('div');\n",
              "          docLink.innerHTML = docLinkHtml;\n",
              "          element.appendChild(docLink);\n",
              "        }\n",
              "      </script>\n",
              "    </div>\n",
              "  </div>\n",
              "  "
            ],
            "text/plain": [
              "           timestamp  Asset_ID  Count  ...    Target  dia_semana  hora\n",
              "3899038   1537929900         1  130.0  ...  0.000528           2     2\n",
              "16149967  1597368060        11   17.0  ...  0.002339           4     1\n",
              "8707670   1561739520         7  115.0  ...  0.008808           4    16\n",
              "20748271  1617227160        10   24.0  ...  0.002203           2    21\n",
              "5480315   1546027560        11    1.0  ...       NaN           4    20\n",
              "...              ...       ...    ...  ...       ...         ...   ...\n",
              "23697386  1629870300         4  360.0  ...  0.006319           2     5\n",
              "2268186   1529378520         0   54.0  ...  0.001564           1     3\n",
              "8460639   1560594960         1  332.0  ...  0.001598           5    10\n",
              "20225514  1614986700         9  479.0  ... -0.001362           4    23\n",
              "18243235  1606478880         6  411.0  ...  0.000763           4    12\n",
              "\n",
              "[100 rows x 12 columns]"
            ]
          },
          "metadata": {},
          "execution_count": 14
        }
      ]
    },
    {
      "cell_type": "markdown",
      "source": [
        ""
      ],
      "metadata": {
        "id": "uluATR9kJgmS"
      }
    },
    {
      "cell_type": "code",
      "source": [
        "base_treino.shape"
      ],
      "metadata": {
        "execution": {
          "iopub.status.busy": "2022-02-01T23:38:04.670407Z",
          "iopub.status.idle": "2022-02-01T23:38:04.671192Z",
          "shell.execute_reply.started": "2022-02-01T23:38:04.670891Z",
          "shell.execute_reply": "2022-02-01T23:38:04.670924Z"
        },
        "trusted": true,
        "colab": {
          "base_uri": "https://localhost:8080/"
        },
        "id": "crUZbP3WJgmV",
        "outputId": "00266298-dc88-4a33-b9b9-94a314e328bc"
      },
      "execution_count": 15,
      "outputs": [
        {
          "output_type": "execute_result",
          "data": {
            "text/plain": [
              "(24236806, 12)"
            ]
          },
          "metadata": {},
          "execution_count": 15
        }
      ]
    },
    {
      "cell_type": "markdown",
      "source": [
        "# 1. Estruturar uma base por asset"
      ],
      "metadata": {
        "id": "Ajn7LDI_JgmX"
      }
    },
    {
      "cell_type": "code",
      "source": [
        "assets = {x: base_treino[base_treino.Asset_ID == x].drop('Asset_ID', axis=1) for x in base_treino.Asset_ID.unique()}"
      ],
      "metadata": {
        "execution": {
          "iopub.status.busy": "2022-02-01T23:38:04.672814Z",
          "iopub.status.idle": "2022-02-01T23:38:04.673192Z",
          "shell.execute_reply.started": "2022-02-01T23:38:04.672969Z",
          "shell.execute_reply": "2022-02-01T23:38:04.672996Z"
        },
        "trusted": true,
        "id": "u3AmLydaJgmY"
      },
      "execution_count": 16,
      "outputs": []
    },
    {
      "cell_type": "markdown",
      "source": [
        "Exemplo :\n",
        "    assets = {2:base_treino[base_treino.Asset_ID==2],3:base_treino[base_treino.Asset_ID==3]...}"
      ],
      "metadata": {
        "id": "booPMK9lJgmZ"
      }
    },
    {
      "cell_type": "code",
      "source": [
        "assets[0].head()"
      ],
      "metadata": {
        "execution": {
          "iopub.status.busy": "2022-02-01T23:38:04.675467Z",
          "iopub.status.idle": "2022-02-01T23:38:04.675817Z",
          "shell.execute_reply.started": "2022-02-01T23:38:04.675640Z",
          "shell.execute_reply": "2022-02-01T23:38:04.675661Z"
        },
        "trusted": true,
        "colab": {
          "base_uri": "https://localhost:8080/",
          "height": 206
        },
        "id": "7UN2gfdbJgma",
        "outputId": "6c3971ae-e11e-4e57-95e4-d1a285d4f1ed"
      },
      "execution_count": 17,
      "outputs": [
        {
          "output_type": "execute_result",
          "data": {
            "text/html": [
              "\n",
              "  <div id=\"df-6fb13dfa-3674-45d6-bedf-89f2ff8f8d2a\">\n",
              "    <div class=\"colab-df-container\">\n",
              "      <div>\n",
              "<style scoped>\n",
              "    .dataframe tbody tr th:only-of-type {\n",
              "        vertical-align: middle;\n",
              "    }\n",
              "\n",
              "    .dataframe tbody tr th {\n",
              "        vertical-align: top;\n",
              "    }\n",
              "\n",
              "    .dataframe thead th {\n",
              "        text-align: right;\n",
              "    }\n",
              "</style>\n",
              "<table border=\"1\" class=\"dataframe\">\n",
              "  <thead>\n",
              "    <tr style=\"text-align: right;\">\n",
              "      <th></th>\n",
              "      <th>timestamp</th>\n",
              "      <th>Count</th>\n",
              "      <th>Open</th>\n",
              "      <th>High</th>\n",
              "      <th>Low</th>\n",
              "      <th>Close</th>\n",
              "      <th>Volume</th>\n",
              "      <th>VWAP</th>\n",
              "      <th>Target</th>\n",
              "      <th>dia_semana</th>\n",
              "      <th>hora</th>\n",
              "    </tr>\n",
              "  </thead>\n",
              "  <tbody>\n",
              "    <tr>\n",
              "      <th>1</th>\n",
              "      <td>1514764860</td>\n",
              "      <td>5.0</td>\n",
              "      <td>8.5300</td>\n",
              "      <td>8.5300</td>\n",
              "      <td>8.5300</td>\n",
              "      <td>8.5300</td>\n",
              "      <td>78.38</td>\n",
              "      <td>8.530000</td>\n",
              "      <td>-0.014399</td>\n",
              "      <td>0</td>\n",
              "      <td>0</td>\n",
              "    </tr>\n",
              "    <tr>\n",
              "      <th>9</th>\n",
              "      <td>1514764920</td>\n",
              "      <td>7.0</td>\n",
              "      <td>8.5300</td>\n",
              "      <td>8.5300</td>\n",
              "      <td>8.5145</td>\n",
              "      <td>8.5145</td>\n",
              "      <td>71.39</td>\n",
              "      <td>8.520215</td>\n",
              "      <td>-0.015875</td>\n",
              "      <td>0</td>\n",
              "      <td>0</td>\n",
              "    </tr>\n",
              "    <tr>\n",
              "      <th>17</th>\n",
              "      <td>1514764980</td>\n",
              "      <td>45.0</td>\n",
              "      <td>8.5065</td>\n",
              "      <td>8.5299</td>\n",
              "      <td>8.4848</td>\n",
              "      <td>8.4848</td>\n",
              "      <td>1546.82</td>\n",
              "      <td>8.501394</td>\n",
              "      <td>-0.015410</td>\n",
              "      <td>0</td>\n",
              "      <td>0</td>\n",
              "    </tr>\n",
              "    <tr>\n",
              "      <th>25</th>\n",
              "      <td>1514765040</td>\n",
              "      <td>14.0</td>\n",
              "      <td>8.5009</td>\n",
              "      <td>8.5066</td>\n",
              "      <td>8.4744</td>\n",
              "      <td>8.5009</td>\n",
              "      <td>125.80</td>\n",
              "      <td>8.479810</td>\n",
              "      <td>-0.012524</td>\n",
              "      <td>0</td>\n",
              "      <td>0</td>\n",
              "    </tr>\n",
              "    <tr>\n",
              "      <th>33</th>\n",
              "      <td>1514765100</td>\n",
              "      <td>5.0</td>\n",
              "      <td>8.5007</td>\n",
              "      <td>8.5007</td>\n",
              "      <td>8.4560</td>\n",
              "      <td>8.4560</td>\n",
              "      <td>125.01</td>\n",
              "      <td>8.458435</td>\n",
              "      <td>-0.005940</td>\n",
              "      <td>0</td>\n",
              "      <td>0</td>\n",
              "    </tr>\n",
              "  </tbody>\n",
              "</table>\n",
              "</div>\n",
              "      <button class=\"colab-df-convert\" onclick=\"convertToInteractive('df-6fb13dfa-3674-45d6-bedf-89f2ff8f8d2a')\"\n",
              "              title=\"Convert this dataframe to an interactive table.\"\n",
              "              style=\"display:none;\">\n",
              "        \n",
              "  <svg xmlns=\"http://www.w3.org/2000/svg\" height=\"24px\"viewBox=\"0 0 24 24\"\n",
              "       width=\"24px\">\n",
              "    <path d=\"M0 0h24v24H0V0z\" fill=\"none\"/>\n",
              "    <path d=\"M18.56 5.44l.94 2.06.94-2.06 2.06-.94-2.06-.94-.94-2.06-.94 2.06-2.06.94zm-11 1L8.5 8.5l.94-2.06 2.06-.94-2.06-.94L8.5 2.5l-.94 2.06-2.06.94zm10 10l.94 2.06.94-2.06 2.06-.94-2.06-.94-.94-2.06-.94 2.06-2.06.94z\"/><path d=\"M17.41 7.96l-1.37-1.37c-.4-.4-.92-.59-1.43-.59-.52 0-1.04.2-1.43.59L10.3 9.45l-7.72 7.72c-.78.78-.78 2.05 0 2.83L4 21.41c.39.39.9.59 1.41.59.51 0 1.02-.2 1.41-.59l7.78-7.78 2.81-2.81c.8-.78.8-2.07 0-2.86zM5.41 20L4 18.59l7.72-7.72 1.47 1.35L5.41 20z\"/>\n",
              "  </svg>\n",
              "      </button>\n",
              "      \n",
              "  <style>\n",
              "    .colab-df-container {\n",
              "      display:flex;\n",
              "      flex-wrap:wrap;\n",
              "      gap: 12px;\n",
              "    }\n",
              "\n",
              "    .colab-df-convert {\n",
              "      background-color: #E8F0FE;\n",
              "      border: none;\n",
              "      border-radius: 50%;\n",
              "      cursor: pointer;\n",
              "      display: none;\n",
              "      fill: #1967D2;\n",
              "      height: 32px;\n",
              "      padding: 0 0 0 0;\n",
              "      width: 32px;\n",
              "    }\n",
              "\n",
              "    .colab-df-convert:hover {\n",
              "      background-color: #E2EBFA;\n",
              "      box-shadow: 0px 1px 2px rgba(60, 64, 67, 0.3), 0px 1px 3px 1px rgba(60, 64, 67, 0.15);\n",
              "      fill: #174EA6;\n",
              "    }\n",
              "\n",
              "    [theme=dark] .colab-df-convert {\n",
              "      background-color: #3B4455;\n",
              "      fill: #D2E3FC;\n",
              "    }\n",
              "\n",
              "    [theme=dark] .colab-df-convert:hover {\n",
              "      background-color: #434B5C;\n",
              "      box-shadow: 0px 1px 3px 1px rgba(0, 0, 0, 0.15);\n",
              "      filter: drop-shadow(0px 1px 2px rgba(0, 0, 0, 0.3));\n",
              "      fill: #FFFFFF;\n",
              "    }\n",
              "  </style>\n",
              "\n",
              "      <script>\n",
              "        const buttonEl =\n",
              "          document.querySelector('#df-6fb13dfa-3674-45d6-bedf-89f2ff8f8d2a button.colab-df-convert');\n",
              "        buttonEl.style.display =\n",
              "          google.colab.kernel.accessAllowed ? 'block' : 'none';\n",
              "\n",
              "        async function convertToInteractive(key) {\n",
              "          const element = document.querySelector('#df-6fb13dfa-3674-45d6-bedf-89f2ff8f8d2a');\n",
              "          const dataTable =\n",
              "            await google.colab.kernel.invokeFunction('convertToInteractive',\n",
              "                                                     [key], {});\n",
              "          if (!dataTable) return;\n",
              "\n",
              "          const docLinkHtml = 'Like what you see? Visit the ' +\n",
              "            '<a target=\"_blank\" href=https://colab.research.google.com/notebooks/data_table.ipynb>data table notebook</a>'\n",
              "            + ' to learn more about interactive tables.';\n",
              "          element.innerHTML = '';\n",
              "          dataTable['output_type'] = 'display_data';\n",
              "          await google.colab.output.renderOutput(dataTable, element);\n",
              "          const docLink = document.createElement('div');\n",
              "          docLink.innerHTML = docLinkHtml;\n",
              "          element.appendChild(docLink);\n",
              "        }\n",
              "      </script>\n",
              "    </div>\n",
              "  </div>\n",
              "  "
            ],
            "text/plain": [
              "     timestamp  Count    Open    High  ...      VWAP    Target  dia_semana  hora\n",
              "1   1514764860    5.0  8.5300  8.5300  ...  8.530000 -0.014399           0     0\n",
              "9   1514764920    7.0  8.5300  8.5300  ...  8.520215 -0.015875           0     0\n",
              "17  1514764980   45.0  8.5065  8.5299  ...  8.501394 -0.015410           0     0\n",
              "25  1514765040   14.0  8.5009  8.5066  ...  8.479810 -0.012524           0     0\n",
              "33  1514765100    5.0  8.5007  8.5007  ...  8.458435 -0.005940           0     0\n",
              "\n",
              "[5 rows x 11 columns]"
            ]
          },
          "metadata": {},
          "execution_count": 17
        }
      ]
    },
    {
      "cell_type": "markdown",
      "source": [
        "# 2. Tratamento inicial"
      ],
      "metadata": {
        "id": "p0K1nMDsJgma"
      }
    },
    {
      "cell_type": "markdown",
      "source": [
        "## 2.1 Timestamp como index"
      ],
      "metadata": {
        "id": "i3PIoPkrJgma"
      }
    },
    {
      "cell_type": "code",
      "source": [
        "for asset in assets:\n",
        "    assets[asset] = assets[asset].set_index('timestamp').sort_index()"
      ],
      "metadata": {
        "execution": {
          "iopub.status.busy": "2022-02-01T23:38:04.677814Z",
          "iopub.status.idle": "2022-02-01T23:38:04.678317Z",
          "shell.execute_reply.started": "2022-02-01T23:38:04.678032Z",
          "shell.execute_reply": "2022-02-01T23:38:04.678059Z"
        },
        "trusted": true,
        "id": "2zg-mOvLJgmb"
      },
      "execution_count": 18,
      "outputs": []
    },
    {
      "cell_type": "code",
      "source": [
        "assets[0].head()"
      ],
      "metadata": {
        "execution": {
          "iopub.status.busy": "2022-02-01T23:38:04.680137Z",
          "iopub.status.idle": "2022-02-01T23:38:04.680530Z",
          "shell.execute_reply.started": "2022-02-01T23:38:04.680361Z",
          "shell.execute_reply": "2022-02-01T23:38:04.680380Z"
        },
        "trusted": true,
        "colab": {
          "base_uri": "https://localhost:8080/",
          "height": 238
        },
        "id": "EaiKcWnbJgmb",
        "outputId": "3c0c643e-ca96-41c1-e2b6-ab73b82ba922"
      },
      "execution_count": 19,
      "outputs": [
        {
          "output_type": "execute_result",
          "data": {
            "text/html": [
              "\n",
              "  <div id=\"df-d465d2cb-c758-463f-b53c-faeb0fd868ca\">\n",
              "    <div class=\"colab-df-container\">\n",
              "      <div>\n",
              "<style scoped>\n",
              "    .dataframe tbody tr th:only-of-type {\n",
              "        vertical-align: middle;\n",
              "    }\n",
              "\n",
              "    .dataframe tbody tr th {\n",
              "        vertical-align: top;\n",
              "    }\n",
              "\n",
              "    .dataframe thead th {\n",
              "        text-align: right;\n",
              "    }\n",
              "</style>\n",
              "<table border=\"1\" class=\"dataframe\">\n",
              "  <thead>\n",
              "    <tr style=\"text-align: right;\">\n",
              "      <th></th>\n",
              "      <th>Count</th>\n",
              "      <th>Open</th>\n",
              "      <th>High</th>\n",
              "      <th>Low</th>\n",
              "      <th>Close</th>\n",
              "      <th>Volume</th>\n",
              "      <th>VWAP</th>\n",
              "      <th>Target</th>\n",
              "      <th>dia_semana</th>\n",
              "      <th>hora</th>\n",
              "    </tr>\n",
              "    <tr>\n",
              "      <th>timestamp</th>\n",
              "      <th></th>\n",
              "      <th></th>\n",
              "      <th></th>\n",
              "      <th></th>\n",
              "      <th></th>\n",
              "      <th></th>\n",
              "      <th></th>\n",
              "      <th></th>\n",
              "      <th></th>\n",
              "      <th></th>\n",
              "    </tr>\n",
              "  </thead>\n",
              "  <tbody>\n",
              "    <tr>\n",
              "      <th>1514764860</th>\n",
              "      <td>5.0</td>\n",
              "      <td>8.5300</td>\n",
              "      <td>8.5300</td>\n",
              "      <td>8.5300</td>\n",
              "      <td>8.5300</td>\n",
              "      <td>78.38</td>\n",
              "      <td>8.530000</td>\n",
              "      <td>-0.014399</td>\n",
              "      <td>0</td>\n",
              "      <td>0</td>\n",
              "    </tr>\n",
              "    <tr>\n",
              "      <th>1514764920</th>\n",
              "      <td>7.0</td>\n",
              "      <td>8.5300</td>\n",
              "      <td>8.5300</td>\n",
              "      <td>8.5145</td>\n",
              "      <td>8.5145</td>\n",
              "      <td>71.39</td>\n",
              "      <td>8.520215</td>\n",
              "      <td>-0.015875</td>\n",
              "      <td>0</td>\n",
              "      <td>0</td>\n",
              "    </tr>\n",
              "    <tr>\n",
              "      <th>1514764980</th>\n",
              "      <td>45.0</td>\n",
              "      <td>8.5065</td>\n",
              "      <td>8.5299</td>\n",
              "      <td>8.4848</td>\n",
              "      <td>8.4848</td>\n",
              "      <td>1546.82</td>\n",
              "      <td>8.501394</td>\n",
              "      <td>-0.015410</td>\n",
              "      <td>0</td>\n",
              "      <td>0</td>\n",
              "    </tr>\n",
              "    <tr>\n",
              "      <th>1514765040</th>\n",
              "      <td>14.0</td>\n",
              "      <td>8.5009</td>\n",
              "      <td>8.5066</td>\n",
              "      <td>8.4744</td>\n",
              "      <td>8.5009</td>\n",
              "      <td>125.80</td>\n",
              "      <td>8.479810</td>\n",
              "      <td>-0.012524</td>\n",
              "      <td>0</td>\n",
              "      <td>0</td>\n",
              "    </tr>\n",
              "    <tr>\n",
              "      <th>1514765100</th>\n",
              "      <td>5.0</td>\n",
              "      <td>8.5007</td>\n",
              "      <td>8.5007</td>\n",
              "      <td>8.4560</td>\n",
              "      <td>8.4560</td>\n",
              "      <td>125.01</td>\n",
              "      <td>8.458435</td>\n",
              "      <td>-0.005940</td>\n",
              "      <td>0</td>\n",
              "      <td>0</td>\n",
              "    </tr>\n",
              "  </tbody>\n",
              "</table>\n",
              "</div>\n",
              "      <button class=\"colab-df-convert\" onclick=\"convertToInteractive('df-d465d2cb-c758-463f-b53c-faeb0fd868ca')\"\n",
              "              title=\"Convert this dataframe to an interactive table.\"\n",
              "              style=\"display:none;\">\n",
              "        \n",
              "  <svg xmlns=\"http://www.w3.org/2000/svg\" height=\"24px\"viewBox=\"0 0 24 24\"\n",
              "       width=\"24px\">\n",
              "    <path d=\"M0 0h24v24H0V0z\" fill=\"none\"/>\n",
              "    <path d=\"M18.56 5.44l.94 2.06.94-2.06 2.06-.94-2.06-.94-.94-2.06-.94 2.06-2.06.94zm-11 1L8.5 8.5l.94-2.06 2.06-.94-2.06-.94L8.5 2.5l-.94 2.06-2.06.94zm10 10l.94 2.06.94-2.06 2.06-.94-2.06-.94-.94-2.06-.94 2.06-2.06.94z\"/><path d=\"M17.41 7.96l-1.37-1.37c-.4-.4-.92-.59-1.43-.59-.52 0-1.04.2-1.43.59L10.3 9.45l-7.72 7.72c-.78.78-.78 2.05 0 2.83L4 21.41c.39.39.9.59 1.41.59.51 0 1.02-.2 1.41-.59l7.78-7.78 2.81-2.81c.8-.78.8-2.07 0-2.86zM5.41 20L4 18.59l7.72-7.72 1.47 1.35L5.41 20z\"/>\n",
              "  </svg>\n",
              "      </button>\n",
              "      \n",
              "  <style>\n",
              "    .colab-df-container {\n",
              "      display:flex;\n",
              "      flex-wrap:wrap;\n",
              "      gap: 12px;\n",
              "    }\n",
              "\n",
              "    .colab-df-convert {\n",
              "      background-color: #E8F0FE;\n",
              "      border: none;\n",
              "      border-radius: 50%;\n",
              "      cursor: pointer;\n",
              "      display: none;\n",
              "      fill: #1967D2;\n",
              "      height: 32px;\n",
              "      padding: 0 0 0 0;\n",
              "      width: 32px;\n",
              "    }\n",
              "\n",
              "    .colab-df-convert:hover {\n",
              "      background-color: #E2EBFA;\n",
              "      box-shadow: 0px 1px 2px rgba(60, 64, 67, 0.3), 0px 1px 3px 1px rgba(60, 64, 67, 0.15);\n",
              "      fill: #174EA6;\n",
              "    }\n",
              "\n",
              "    [theme=dark] .colab-df-convert {\n",
              "      background-color: #3B4455;\n",
              "      fill: #D2E3FC;\n",
              "    }\n",
              "\n",
              "    [theme=dark] .colab-df-convert:hover {\n",
              "      background-color: #434B5C;\n",
              "      box-shadow: 0px 1px 3px 1px rgba(0, 0, 0, 0.15);\n",
              "      filter: drop-shadow(0px 1px 2px rgba(0, 0, 0, 0.3));\n",
              "      fill: #FFFFFF;\n",
              "    }\n",
              "  </style>\n",
              "\n",
              "      <script>\n",
              "        const buttonEl =\n",
              "          document.querySelector('#df-d465d2cb-c758-463f-b53c-faeb0fd868ca button.colab-df-convert');\n",
              "        buttonEl.style.display =\n",
              "          google.colab.kernel.accessAllowed ? 'block' : 'none';\n",
              "\n",
              "        async function convertToInteractive(key) {\n",
              "          const element = document.querySelector('#df-d465d2cb-c758-463f-b53c-faeb0fd868ca');\n",
              "          const dataTable =\n",
              "            await google.colab.kernel.invokeFunction('convertToInteractive',\n",
              "                                                     [key], {});\n",
              "          if (!dataTable) return;\n",
              "\n",
              "          const docLinkHtml = 'Like what you see? Visit the ' +\n",
              "            '<a target=\"_blank\" href=https://colab.research.google.com/notebooks/data_table.ipynb>data table notebook</a>'\n",
              "            + ' to learn more about interactive tables.';\n",
              "          element.innerHTML = '';\n",
              "          dataTable['output_type'] = 'display_data';\n",
              "          await google.colab.output.renderOutput(dataTable, element);\n",
              "          const docLink = document.createElement('div');\n",
              "          docLink.innerHTML = docLinkHtml;\n",
              "          element.appendChild(docLink);\n",
              "        }\n",
              "      </script>\n",
              "    </div>\n",
              "  </div>\n",
              "  "
            ],
            "text/plain": [
              "            Count    Open    High     Low  ...      VWAP    Target  dia_semana  hora\n",
              "timestamp                                  ...                                      \n",
              "1514764860    5.0  8.5300  8.5300  8.5300  ...  8.530000 -0.014399           0     0\n",
              "1514764920    7.0  8.5300  8.5300  8.5145  ...  8.520215 -0.015875           0     0\n",
              "1514764980   45.0  8.5065  8.5299  8.4848  ...  8.501394 -0.015410           0     0\n",
              "1514765040   14.0  8.5009  8.5066  8.4744  ...  8.479810 -0.012524           0     0\n",
              "1514765100    5.0  8.5007  8.5007  8.4560  ...  8.458435 -0.005940           0     0\n",
              "\n",
              "[5 rows x 10 columns]"
            ]
          },
          "metadata": {},
          "execution_count": 19
        }
      ]
    },
    {
      "cell_type": "markdown",
      "source": [
        "## 2.2 Tratamento dos missings"
      ],
      "metadata": {
        "id": "zNDSg4kpJgmb"
      }
    },
    {
      "cell_type": "code",
      "source": [
        "# Função para uso futuro\n",
        "\n",
        "def preenche_missing():\n",
        "    return 0"
      ],
      "metadata": {
        "execution": {
          "iopub.status.busy": "2022-02-01T23:38:04.681944Z",
          "iopub.status.idle": "2022-02-01T23:38:04.682334Z",
          "shell.execute_reply.started": "2022-02-01T23:38:04.682107Z",
          "shell.execute_reply": "2022-02-01T23:38:04.682129Z"
        },
        "trusted": true,
        "id": "UNNU0jaBJgmc"
      },
      "execution_count": 20,
      "outputs": []
    },
    {
      "cell_type": "code",
      "source": [
        "for asset in assets:\n",
        "    assets[asset] = assets[asset].reindex(range(assets[asset].index[0], assets[asset].index[-1] + 60, 60), method='pad').replace([np.inf, -np.inf], np.nan)"
      ],
      "metadata": {
        "execution": {
          "iopub.status.busy": "2022-02-01T23:38:04.683647Z",
          "iopub.status.idle": "2022-02-01T23:38:04.683955Z",
          "shell.execute_reply.started": "2022-02-01T23:38:04.683796Z",
          "shell.execute_reply": "2022-02-01T23:38:04.683812Z"
        },
        "trusted": true,
        "id": "vCEKqeCFJgmc"
      },
      "execution_count": 21,
      "outputs": []
    },
    {
      "cell_type": "code",
      "source": [
        "assets[0].info(show_counts=True)"
      ],
      "metadata": {
        "execution": {
          "iopub.status.busy": "2022-02-01T23:38:04.685563Z",
          "iopub.status.idle": "2022-02-01T23:38:04.685905Z",
          "shell.execute_reply.started": "2022-02-01T23:38:04.685719Z",
          "shell.execute_reply": "2022-02-01T23:38:04.685742Z"
        },
        "trusted": true,
        "colab": {
          "base_uri": "https://localhost:8080/"
        },
        "id": "SUunCfQEJgmc",
        "outputId": "7c46887c-8615-4490-e59d-3aafe7faf290"
      },
      "execution_count": 22,
      "outputs": [
        {
          "output_type": "stream",
          "name": "stdout",
          "text": [
            "<class 'pandas.core.frame.DataFrame'>\n",
            "RangeIndex: 1956960 entries, 1514764860 to 1632182400\n",
            "Data columns (total 10 columns):\n",
            " #   Column      Non-Null Count    Dtype  \n",
            "---  ------      --------------    -----  \n",
            " 0   Count       1956960 non-null  float64\n",
            " 1   Open        1956960 non-null  float64\n",
            " 2   High        1956960 non-null  float64\n",
            " 3   Low         1956960 non-null  float64\n",
            " 4   Close       1956960 non-null  float64\n",
            " 5   Volume      1956960 non-null  float64\n",
            " 6   VWAP        1956960 non-null  float64\n",
            " 7   Target      1929248 non-null  float64\n",
            " 8   dia_semana  1956960 non-null  int64  \n",
            " 9   hora        1956960 non-null  int64  \n",
            "dtypes: float64(8), int64(2)\n",
            "memory usage: 149.3 MB\n"
          ]
        }
      ]
    },
    {
      "cell_type": "code",
      "source": [
        "for asset in assets:\n",
        "    print(f'-----{asset}-----')\n",
        "    print((assets[asset].index[1:] - assets[asset].index[:-1]).value_counts().head())"
      ],
      "metadata": {
        "execution": {
          "iopub.status.busy": "2022-02-01T23:38:04.687498Z",
          "iopub.status.idle": "2022-02-01T23:38:04.688201Z",
          "shell.execute_reply.started": "2022-02-01T23:38:04.687887Z",
          "shell.execute_reply": "2022-02-01T23:38:04.687922Z"
        },
        "trusted": true,
        "colab": {
          "base_uri": "https://localhost:8080/"
        },
        "id": "2xZ9ALiuJgmd",
        "outputId": "0046ea7e-a58d-44dd-cf0f-58f7a4900408"
      },
      "execution_count": 23,
      "outputs": [
        {
          "output_type": "stream",
          "name": "stdout",
          "text": [
            "-----2-----\n",
            "60    1956959\n",
            "Name: timestamp, dtype: int64\n",
            "-----0-----\n",
            "60    1956959\n",
            "Name: timestamp, dtype: int64\n",
            "-----1-----\n",
            "60    1956959\n",
            "Name: timestamp, dtype: int64\n",
            "-----5-----\n",
            "60    1956959\n",
            "Name: timestamp, dtype: int64\n",
            "-----7-----\n",
            "60    1956959\n",
            "Name: timestamp, dtype: int64\n",
            "-----6-----\n",
            "60    1956959\n",
            "Name: timestamp, dtype: int64\n",
            "-----9-----\n",
            "60    1956959\n",
            "Name: timestamp, dtype: int64\n",
            "-----11-----\n",
            "60    1956959\n",
            "Name: timestamp, dtype: int64\n",
            "-----13-----\n",
            "60    1903823\n",
            "Name: timestamp, dtype: int64\n",
            "-----12-----\n",
            "60    1889287\n",
            "Name: timestamp, dtype: int64\n",
            "-----3-----\n",
            "60    1803769\n",
            "Name: timestamp, dtype: int64\n",
            "-----8-----\n",
            "60    1772153\n",
            "Name: timestamp, dtype: int64\n",
            "-----10-----\n",
            "60    1770279\n",
            "Name: timestamp, dtype: int64\n",
            "-----4-----\n",
            "60    1285046\n",
            "Name: timestamp, dtype: int64\n"
          ]
        }
      ]
    },
    {
      "cell_type": "markdown",
      "source": [
        "# 3. Criação de features"
      ],
      "metadata": {
        "execution": {
          "iopub.status.busy": "2022-01-19T01:27:57.460672Z",
          "iopub.execute_input": "2022-01-19T01:27:57.461008Z",
          "iopub.status.idle": "2022-01-19T01:27:57.481205Z",
          "shell.execute_reply.started": "2022-01-19T01:27:57.460918Z",
          "shell.execute_reply": "2022-01-19T01:27:57.480569Z"
        },
        "id": "LdwdOcp1Jgmd"
      }
    },
    {
      "cell_type": "markdown",
      "source": [
        "## 3.1 Features gerais - vai ter para todos assets"
      ],
      "metadata": {
        "id": "CQQmGzksJgmd"
      }
    },
    {
      "cell_type": "markdown",
      "source": [
        "Fazer a construção de features usando funções, pra facilitar a aplicação nos assets"
      ],
      "metadata": {
        "execution": {
          "iopub.status.busy": "2022-01-19T02:54:48.123261Z",
          "iopub.execute_input": "2022-01-19T02:54:48.123626Z",
          "iopub.status.idle": "2022-01-19T02:54:48.128644Z",
          "shell.execute_reply.started": "2022-01-19T02:54:48.123584Z",
          "shell.execute_reply": "2022-01-19T02:54:48.12775Z"
        },
        "id": "wdNX7yxzJgmd"
      }
    },
    {
      "cell_type": "markdown",
      "source": [
        "Features já existentes\n",
        "* timestamp: All timestamps are returned as second Unix timestamps (the number of seconds elapsed since 1970-01-01 00:00:00.000 UTC). Timestamps in this dataset are multiple of 60, indicating minute-by-minute data.\n",
        "* Asset_ID: The asset ID corresponding to one of the crytocurrencies (e.g. Asset_ID = 1 for Bitcoin). The mapping from Asset_ID to crypto asset is contained in asset_details.csv.\n",
        "* Count: Total number of trades in the time interval (last minute).\n",
        "* Open: Opening price of the time interval (in USD).\n",
        "* High: Highest price reached during time interval (in USD).\n",
        "* Low: Lowest price reached during time interval (in USD).\n",
        "* Close: Closing price of the time interval (in USD).\n",
        "* Volume: Quantity of asset bought or sold, displayed in base currency USD.\n",
        "* VWAP: The average price of the asset over the time interval, weighted by volume. VWAP is an aggregated form of trade data.\n",
        "* Target: Residual log-returns for the asset over a 15 minute horizon."
      ],
      "metadata": {
        "id": "nDjWZLg_Jgme"
      }
    },
    {
      "cell_type": "markdown",
      "source": [
        "Ideias de features\n",
        "* Dia da semana\n",
        "* Feriados Americanos e Chineses\n",
        "* Volatilidade exponencial - http://ferramentasdoinvestidor.com.br/gestao-de-risco/volatilidade-ewma-no-excel/\n",
        "* Indice de força relativa\n",
        "* Médias moveis\n",
        "* Bandas de bollinger\n",
        "* MACD\n",
        "* Agulhada do DIDI - https://www.investimentonabolsa.com/2014/11/saiba-utilizar-agulhada-do-didi.html\n",
        "* Analise de fourrier - https://journals.sagepub.com/doi/pdf/10.5772/56839\n",
        "* Nuvens de ichimoku - https://www.investopedia.com/terms/i/ichimoku-cloud.asp\n",
        "* numero de transações de bitcoin - observar interesse do publico em cripto"
      ],
      "metadata": {
        "id": "I9qvB2EnJgme"
      }
    },
    {
      "cell_type": "code",
      "source": [
        "#def media_movel_30(precos):\n",
        "#    return precos.rolling(30).mean()\n",
        "\n",
        "def media_movel(precos,intervalo):\n",
        "    return precos.rolling(intervalo).mean()"
      ],
      "metadata": {
        "execution": {
          "iopub.status.busy": "2022-02-01T23:38:04.689208Z",
          "iopub.status.idle": "2022-02-01T23:38:04.689551Z",
          "shell.execute_reply.started": "2022-02-01T23:38:04.689366Z",
          "shell.execute_reply": "2022-02-01T23:38:04.689390Z"
        },
        "trusted": true,
        "id": "2it9aTEzJgme"
      },
      "execution_count": 24,
      "outputs": []
    },
    {
      "cell_type": "code",
      "source": [
        "def get_bollinger_bands(dfbol, rate=30):\n",
        "    sma = np.array(dfbol.rolling(rate).mean())\n",
        "    std = np.array(dfbol.rolling(rate).std())\n",
        "    boll_up =  sma + std * 2 # Calculate top band\n",
        "    boll_down = sma - std * 2 # Calculate bottom band\n",
        "    boll=np.zeros(dfbol.size)\n",
        "    preco=np.array(dfbol)\n",
        "    indexes = list(range(dfbol.size))\n",
        "    for i in indexes:\n",
        "        if boll_up[i]<preco[i]:\n",
        "            boll[i]=1\n",
        "        elif boll_down[i]>preco[i]:\n",
        "            boll[i]=-1\n",
        "        else:\n",
        "            boll[i]=0\n",
        "    return boll"
      ],
      "metadata": {
        "execution": {
          "iopub.status.busy": "2022-02-01T23:38:04.691108Z",
          "iopub.status.idle": "2022-02-01T23:38:04.691848Z",
          "shell.execute_reply.started": "2022-02-01T23:38:04.691628Z",
          "shell.execute_reply": "2022-02-01T23:38:04.691657Z"
        },
        "trusted": true,
        "id": "kQpAdvJfJgmf"
      },
      "execution_count": 25,
      "outputs": []
    },
    {
      "cell_type": "code",
      "source": [
        "def agulhada_didi(dfagu):\n",
        "    didi3 = np.array(dfagu.rolling(3).mean())\n",
        "    didi8 = np.array(dfagu.rolling(8).mean())\n",
        "    didi20 = np.array(dfagu.rolling(20).mean())\n",
        "    Didi=np.zeros(dfagu.size)\n",
        "    indexes = list(range(dfagu.size))\n",
        "    for i in indexes:\n",
        "        if ((didi3[i]>didi8[i]) & (didi8[i]>didi20[i])):\n",
        "            Didi[i]=1\n",
        "        else:\n",
        "            Didi[i]=0\n",
        "    return Didi"
      ],
      "metadata": {
        "execution": {
          "iopub.status.busy": "2022-02-01T23:38:04.692987Z",
          "iopub.status.idle": "2022-02-01T23:38:04.693354Z",
          "shell.execute_reply.started": "2022-02-01T23:38:04.693167Z",
          "shell.execute_reply": "2022-02-01T23:38:04.693194Z"
        },
        "trusted": true,
        "id": "IEZJfh2hJgmf"
      },
      "execution_count": 26,
      "outputs": []
    },
    {
      "cell_type": "code",
      "source": [
        "    def MACD(dfmacd):\n",
        "        exp1 = dfmacd.ewm(span=12, adjust=False).mean()\n",
        "        exp2 = dfmacd.ewm(span=26, adjust=False).mean()\n",
        "        diff = exp1-exp2\n",
        "        diff_np=np.array(diff)\n",
        "        exp3 = np.array(diff.ewm(span=9, adjust=False).mean())\n",
        "        MACD=np.zeros(dfmacd.size)\n",
        "        indexes = list(range(dfmacd.size))\n",
        "        for i in indexes:\n",
        "            if (diff_np[i]>=exp3[i]):\n",
        "                MACD[i]=1\n",
        "            else:\n",
        "                MACD[i]=-1        \n",
        "        return MACD"
      ],
      "metadata": {
        "execution": {
          "iopub.status.busy": "2022-02-01T23:38:04.694713Z",
          "iopub.status.idle": "2022-02-01T23:38:04.695047Z",
          "shell.execute_reply.started": "2022-02-01T23:38:04.694871Z",
          "shell.execute_reply": "2022-02-01T23:38:04.694893Z"
        },
        "trusted": true,
        "id": "Q7zqFZ5AJgmf"
      },
      "execution_count": 27,
      "outputs": []
    },
    {
      "cell_type": "code",
      "source": [
        "def willR (dfw,dfhigh,dflow,bins):\n",
        "    high = [np.array(dfhigh.rolling(bins).max(),dtype=float)-np.array(dfw,dtype=float)]\n",
        "    low = [np.array(dfhigh.rolling(bins).max(),dtype=float)-np.array(dflow.rolling(bins).min(),dtype=float)]\n",
        "    #\n",
        "    willr = np.transpose(np.nan_to_num(np.true_divide(high,low,out=np.zeros_like(high), where=low!=0)*(-100)))\n",
        "    \n",
        "    willr_flag=np.zeros(dfw.size)\n",
        "    indexes = list(range(dfw.size))\n",
        "    for i in indexes:\n",
        "        if (willr[i]>-20):\n",
        "            willr_flag[i]=1\n",
        "        elif (willr[i]<-80):\n",
        "            willr_flag[i]=-1\n",
        "        else:\n",
        "            willr_flag[i]=0\n",
        "\n",
        "    return willr,willr_flag"
      ],
      "metadata": {
        "execution": {
          "iopub.status.busy": "2022-02-01T23:38:04.695972Z",
          "iopub.status.idle": "2022-02-01T23:38:04.696335Z",
          "shell.execute_reply.started": "2022-02-01T23:38:04.696120Z",
          "shell.execute_reply": "2022-02-01T23:38:04.696144Z"
        },
        "trusted": true,
        "id": "kFcFSv03Jgmf"
      },
      "execution_count": 28,
      "outputs": []
    },
    {
      "cell_type": "code",
      "source": [
        "def log_return(series, periods=1):\n",
        "    return np.log(series).diff(periods=periods)"
      ],
      "metadata": {
        "execution": {
          "iopub.status.busy": "2022-02-01T23:38:04.697497Z",
          "iopub.status.idle": "2022-02-01T23:38:04.697832Z",
          "shell.execute_reply.started": "2022-02-01T23:38:04.697649Z",
          "shell.execute_reply": "2022-02-01T23:38:04.697672Z"
        },
        "trusted": true,
        "id": "yVtj2RblJgmg"
      },
      "execution_count": 29,
      "outputs": []
    },
    {
      "cell_type": "code",
      "source": [
        ""
      ],
      "metadata": {
        "id": "AmMrVddnJgmg"
      },
      "execution_count": 29,
      "outputs": []
    },
    {
      "cell_type": "code",
      "source": [
        "for base in assets:\n",
        "    \n",
        "    #simple moving average\n",
        "    assets[base]['SMA_30'] = media_movel(assets[base]['Close'],30)\n",
        "    assets[base]['SMA_15'] = media_movel(assets[base]['Close'],15)\n",
        "    \n",
        "    #log simple moving average\n",
        "    assets[base]['log_SMA_30'] = np.log(assets[base]['Close'].rolling(30).mean())\n",
        "    assets[base]['log_SMA_15'] = np.log(assets[base]['Close'].rolling(15).mean())\n",
        "    \n",
        "    #log cumulative moving average\n",
        "    assets[base]['log_CMA_30'] = np.log(assets[base]['Close'].expanding(30).mean())\n",
        "    assets[base]['log_CMA_15'] = np.log(assets[base]['Close'].expanding(15).mean())\n",
        "    \n",
        "    #log exponential moving average\n",
        "    assets[base]['log_EWM_30'] = np.log(assets[base]['Close'].ewm(span=30).mean())\n",
        "    assets[base]['log_EWM_15'] = np.log(assets[base]['Close'].ewm(span=15).mean())\n",
        "\n",
        "    #Bollinger\n",
        "    assets[base]['boll_30'] = get_bollinger_bands(assets[base]['Close'],30)\n",
        "    #DIDI Index\n",
        "    assets[base]['Didi'] = agulhada_didi(assets[base]['Close'])\n",
        "    #MACD\n",
        "    assets[base]['MACD'] = MACD(assets[base]['Close'])\n",
        "    #Williams R\n",
        "    assets[base]['willr'],assets[base]['willr_flag'] = willR(assets[base]['Close'],assets[base]['High'],assets[base]['Low'],14)\n",
        "    #Log do Retorno\n",
        "    assets[base][\"log_ret\"]=log_return(assets[base]['Close'])[1:]\n",
        " \n",
        "    "
      ],
      "metadata": {
        "execution": {
          "iopub.status.busy": "2022-02-01T23:38:04.700085Z",
          "iopub.status.idle": "2022-02-01T23:38:04.700472Z",
          "shell.execute_reply.started": "2022-02-01T23:38:04.700282Z",
          "shell.execute_reply": "2022-02-01T23:38:04.700305Z"
        },
        "trusted": true,
        "colab": {
          "base_uri": "https://localhost:8080/"
        },
        "id": "38Lk6IpjJgmg",
        "outputId": "5195c920-acb9-47a0-aff9-76574287ba64"
      },
      "execution_count": 30,
      "outputs": [
        {
          "output_type": "stream",
          "name": "stderr",
          "text": [
            "/usr/local/lib/python3.7/dist-packages/ipykernel_launcher.py:5: RuntimeWarning: invalid value encountered in true_divide\n",
            "  \"\"\"\n"
          ]
        }
      ]
    },
    {
      "cell_type": "code",
      "source": [
        "assets[0].sample(100)"
      ],
      "metadata": {
        "execution": {
          "iopub.status.busy": "2022-02-01T23:38:04.701808Z",
          "iopub.status.idle": "2022-02-01T23:38:04.702177Z",
          "shell.execute_reply.started": "2022-02-01T23:38:04.701965Z",
          "shell.execute_reply": "2022-02-01T23:38:04.701990Z"
        },
        "trusted": true,
        "colab": {
          "base_uri": "https://localhost:8080/",
          "height": 519
        },
        "id": "8eYm_uvGJgmg",
        "outputId": "21d08b81-5549-4f2e-e304-5a6a13f1af62"
      },
      "execution_count": 31,
      "outputs": [
        {
          "output_type": "execute_result",
          "data": {
            "text/html": [
              "\n",
              "  <div id=\"df-0528b61b-bae0-4b5b-9ba1-7b04e7bfc822\">\n",
              "    <div class=\"colab-df-container\">\n",
              "      <div>\n",
              "<style scoped>\n",
              "    .dataframe tbody tr th:only-of-type {\n",
              "        vertical-align: middle;\n",
              "    }\n",
              "\n",
              "    .dataframe tbody tr th {\n",
              "        vertical-align: top;\n",
              "    }\n",
              "\n",
              "    .dataframe thead th {\n",
              "        text-align: right;\n",
              "    }\n",
              "</style>\n",
              "<table border=\"1\" class=\"dataframe\">\n",
              "  <thead>\n",
              "    <tr style=\"text-align: right;\">\n",
              "      <th></th>\n",
              "      <th>Count</th>\n",
              "      <th>Open</th>\n",
              "      <th>High</th>\n",
              "      <th>Low</th>\n",
              "      <th>Close</th>\n",
              "      <th>Volume</th>\n",
              "      <th>VWAP</th>\n",
              "      <th>Target</th>\n",
              "      <th>dia_semana</th>\n",
              "      <th>hora</th>\n",
              "      <th>SMA_30</th>\n",
              "      <th>SMA_15</th>\n",
              "      <th>log_SMA_30</th>\n",
              "      <th>log_SMA_15</th>\n",
              "      <th>log_CMA_30</th>\n",
              "      <th>log_CMA_15</th>\n",
              "      <th>log_EWM_30</th>\n",
              "      <th>log_EWM_15</th>\n",
              "      <th>boll_30</th>\n",
              "      <th>Didi</th>\n",
              "      <th>MACD</th>\n",
              "      <th>willr</th>\n",
              "      <th>willr_flag</th>\n",
              "      <th>log_ret</th>\n",
              "    </tr>\n",
              "    <tr>\n",
              "      <th>timestamp</th>\n",
              "      <th></th>\n",
              "      <th></th>\n",
              "      <th></th>\n",
              "      <th></th>\n",
              "      <th></th>\n",
              "      <th></th>\n",
              "      <th></th>\n",
              "      <th></th>\n",
              "      <th></th>\n",
              "      <th></th>\n",
              "      <th></th>\n",
              "      <th></th>\n",
              "      <th></th>\n",
              "      <th></th>\n",
              "      <th></th>\n",
              "      <th></th>\n",
              "      <th></th>\n",
              "      <th></th>\n",
              "      <th></th>\n",
              "      <th></th>\n",
              "      <th></th>\n",
              "      <th></th>\n",
              "      <th></th>\n",
              "      <th></th>\n",
              "    </tr>\n",
              "  </thead>\n",
              "  <tbody>\n",
              "    <tr>\n",
              "      <th>1569379860</th>\n",
              "      <td>42.0</td>\n",
              "      <td>16.22250</td>\n",
              "      <td>16.3030</td>\n",
              "      <td>16.1246</td>\n",
              "      <td>16.23885</td>\n",
              "      <td>1268.9500</td>\n",
              "      <td>16.228687</td>\n",
              "      <td>-0.000173</td>\n",
              "      <td>2</td>\n",
              "      <td>2</td>\n",
              "      <td>16.233178</td>\n",
              "      <td>16.217593</td>\n",
              "      <td>2.787057</td>\n",
              "      <td>2.786097</td>\n",
              "      <td>2.731791</td>\n",
              "      <td>2.731791</td>\n",
              "      <td>2.787741</td>\n",
              "      <td>2.786209</td>\n",
              "      <td>0.0</td>\n",
              "      <td>0.0</td>\n",
              "      <td>1.0</td>\n",
              "      <td>-51.258532</td>\n",
              "      <td>0.0</td>\n",
              "      <td>0.000755</td>\n",
              "    </tr>\n",
              "    <tr>\n",
              "      <th>1583659860</th>\n",
              "      <td>37.0</td>\n",
              "      <td>19.47090</td>\n",
              "      <td>19.4709</td>\n",
              "      <td>19.4507</td>\n",
              "      <td>19.45360</td>\n",
              "      <td>402.2300</td>\n",
              "      <td>19.457544</td>\n",
              "      <td>0.000242</td>\n",
              "      <td>6</td>\n",
              "      <td>9</td>\n",
              "      <td>19.426897</td>\n",
              "      <td>19.451343</td>\n",
              "      <td>2.966659</td>\n",
              "      <td>2.967916</td>\n",
              "      <td>2.762674</td>\n",
              "      <td>2.762674</td>\n",
              "      <td>2.966768</td>\n",
              "      <td>2.967784</td>\n",
              "      <td>0.0</td>\n",
              "      <td>1.0</td>\n",
              "      <td>-1.0</td>\n",
              "      <td>-46.725860</td>\n",
              "      <td>0.0</td>\n",
              "      <td>-0.000915</td>\n",
              "    </tr>\n",
              "    <tr>\n",
              "      <th>1624575300</th>\n",
              "      <td>322.0</td>\n",
              "      <td>308.62350</td>\n",
              "      <td>309.4100</td>\n",
              "      <td>308.4900</td>\n",
              "      <td>309.31000</td>\n",
              "      <td>677.4299</td>\n",
              "      <td>308.929520</td>\n",
              "      <td>-0.003561</td>\n",
              "      <td>3</td>\n",
              "      <td>22</td>\n",
              "      <td>309.046733</td>\n",
              "      <td>309.043167</td>\n",
              "      <td>5.733493</td>\n",
              "      <td>5.733481</td>\n",
              "      <td>4.026569</td>\n",
              "      <td>4.026569</td>\n",
              "      <td>5.733422</td>\n",
              "      <td>5.732818</td>\n",
              "      <td>0.0</td>\n",
              "      <td>0.0</td>\n",
              "      <td>-1.0</td>\n",
              "      <td>-26.190476</td>\n",
              "      <td>0.0</td>\n",
              "      <td>0.002541</td>\n",
              "    </tr>\n",
              "    <tr>\n",
              "      <th>1556808120</th>\n",
              "      <td>128.0</td>\n",
              "      <td>23.95070</td>\n",
              "      <td>23.9570</td>\n",
              "      <td>23.9096</td>\n",
              "      <td>23.91710</td>\n",
              "      <td>3039.9000</td>\n",
              "      <td>23.937386</td>\n",
              "      <td>-0.010221</td>\n",
              "      <td>3</td>\n",
              "      <td>14</td>\n",
              "      <td>23.796453</td>\n",
              "      <td>23.908387</td>\n",
              "      <td>3.169537</td>\n",
              "      <td>3.174229</td>\n",
              "      <td>2.444891</td>\n",
              "      <td>2.444891</td>\n",
              "      <td>3.169161</td>\n",
              "      <td>3.173970</td>\n",
              "      <td>0.0</td>\n",
              "      <td>0.0</td>\n",
              "      <td>-1.0</td>\n",
              "      <td>-50.335731</td>\n",
              "      <td>0.0</td>\n",
              "      <td>-0.001383</td>\n",
              "    </tr>\n",
              "    <tr>\n",
              "      <th>1551484320</th>\n",
              "      <td>168.0</td>\n",
              "      <td>11.30770</td>\n",
              "      <td>11.3131</td>\n",
              "      <td>11.2662</td>\n",
              "      <td>11.29380</td>\n",
              "      <td>2885.1900</td>\n",
              "      <td>11.284906</td>\n",
              "      <td>-0.002479</td>\n",
              "      <td>4</td>\n",
              "      <td>23</td>\n",
              "      <td>11.356967</td>\n",
              "      <td>11.362953</td>\n",
              "      <td>2.429831</td>\n",
              "      <td>2.430358</td>\n",
              "      <td>2.362636</td>\n",
              "      <td>2.362636</td>\n",
              "      <td>2.430170</td>\n",
              "      <td>2.428957</td>\n",
              "      <td>-1.0</td>\n",
              "      <td>0.0</td>\n",
              "      <td>-1.0</td>\n",
              "      <td>-79.615953</td>\n",
              "      <td>0.0</td>\n",
              "      <td>-0.000513</td>\n",
              "    </tr>\n",
              "    <tr>\n",
              "      <th>...</th>\n",
              "      <td>...</td>\n",
              "      <td>...</td>\n",
              "      <td>...</td>\n",
              "      <td>...</td>\n",
              "      <td>...</td>\n",
              "      <td>...</td>\n",
              "      <td>...</td>\n",
              "      <td>...</td>\n",
              "      <td>...</td>\n",
              "      <td>...</td>\n",
              "      <td>...</td>\n",
              "      <td>...</td>\n",
              "      <td>...</td>\n",
              "      <td>...</td>\n",
              "      <td>...</td>\n",
              "      <td>...</td>\n",
              "      <td>...</td>\n",
              "      <td>...</td>\n",
              "      <td>...</td>\n",
              "      <td>...</td>\n",
              "      <td>...</td>\n",
              "      <td>...</td>\n",
              "      <td>...</td>\n",
              "      <td>...</td>\n",
              "    </tr>\n",
              "    <tr>\n",
              "      <th>1624849440</th>\n",
              "      <td>229.0</td>\n",
              "      <td>287.59800</td>\n",
              "      <td>287.8000</td>\n",
              "      <td>287.2100</td>\n",
              "      <td>287.71800</td>\n",
              "      <td>577.9752</td>\n",
              "      <td>287.628890</td>\n",
              "      <td>-0.003275</td>\n",
              "      <td>0</td>\n",
              "      <td>3</td>\n",
              "      <td>287.306650</td>\n",
              "      <td>287.181167</td>\n",
              "      <td>5.660550</td>\n",
              "      <td>5.660113</td>\n",
              "      <td>4.036609</td>\n",
              "      <td>4.036609</td>\n",
              "      <td>5.660586</td>\n",
              "      <td>5.660624</td>\n",
              "      <td>0.0</td>\n",
              "      <td>1.0</td>\n",
              "      <td>1.0</td>\n",
              "      <td>-20.760870</td>\n",
              "      <td>0.0</td>\n",
              "      <td>0.001362</td>\n",
              "    </tr>\n",
              "    <tr>\n",
              "      <th>1598284020</th>\n",
              "      <td>41.0</td>\n",
              "      <td>22.51480</td>\n",
              "      <td>22.5335</td>\n",
              "      <td>22.5136</td>\n",
              "      <td>22.52750</td>\n",
              "      <td>929.3400</td>\n",
              "      <td>22.528961</td>\n",
              "      <td>-0.000877</td>\n",
              "      <td>0</td>\n",
              "      <td>15</td>\n",
              "      <td>22.479713</td>\n",
              "      <td>22.490717</td>\n",
              "      <td>3.112613</td>\n",
              "      <td>3.113103</td>\n",
              "      <td>2.772557</td>\n",
              "      <td>2.772557</td>\n",
              "      <td>3.113158</td>\n",
              "      <td>3.113303</td>\n",
              "      <td>1.0</td>\n",
              "      <td>1.0</td>\n",
              "      <td>1.0</td>\n",
              "      <td>-6.904488</td>\n",
              "      <td>1.0</td>\n",
              "      <td>0.000235</td>\n",
              "    </tr>\n",
              "    <tr>\n",
              "      <th>1561690860</th>\n",
              "      <td>96.0</td>\n",
              "      <td>34.15615</td>\n",
              "      <td>34.2554</td>\n",
              "      <td>34.0909</td>\n",
              "      <td>34.20710</td>\n",
              "      <td>1519.0710</td>\n",
              "      <td>34.167009</td>\n",
              "      <td>0.004165</td>\n",
              "      <td>4</td>\n",
              "      <td>3</td>\n",
              "      <td>34.448128</td>\n",
              "      <td>34.393477</td>\n",
              "      <td>3.539455</td>\n",
              "      <td>3.537867</td>\n",
              "      <td>2.600602</td>\n",
              "      <td>2.600602</td>\n",
              "      <td>3.538496</td>\n",
              "      <td>3.536608</td>\n",
              "      <td>0.0</td>\n",
              "      <td>0.0</td>\n",
              "      <td>-1.0</td>\n",
              "      <td>-79.681763</td>\n",
              "      <td>0.0</td>\n",
              "      <td>0.001092</td>\n",
              "    </tr>\n",
              "    <tr>\n",
              "      <th>1526032620</th>\n",
              "      <td>40.0</td>\n",
              "      <td>13.11510</td>\n",
              "      <td>13.1629</td>\n",
              "      <td>13.1000</td>\n",
              "      <td>13.12810</td>\n",
              "      <td>280.4600</td>\n",
              "      <td>13.128231</td>\n",
              "      <td>0.002532</td>\n",
              "      <td>4</td>\n",
              "      <td>9</td>\n",
              "      <td>13.084470</td>\n",
              "      <td>13.091760</td>\n",
              "      <td>2.571426</td>\n",
              "      <td>2.571983</td>\n",
              "      <td>2.483399</td>\n",
              "      <td>2.483399</td>\n",
              "      <td>2.572745</td>\n",
              "      <td>2.572583</td>\n",
              "      <td>0.0</td>\n",
              "      <td>0.0</td>\n",
              "      <td>1.0</td>\n",
              "      <td>-26.982316</td>\n",
              "      <td>0.0</td>\n",
              "      <td>0.001883</td>\n",
              "    </tr>\n",
              "    <tr>\n",
              "      <th>1609363500</th>\n",
              "      <td>63.0</td>\n",
              "      <td>37.84500</td>\n",
              "      <td>37.8873</td>\n",
              "      <td>37.8385</td>\n",
              "      <td>37.87180</td>\n",
              "      <td>197.8450</td>\n",
              "      <td>37.866496</td>\n",
              "      <td>-0.000758</td>\n",
              "      <td>2</td>\n",
              "      <td>21</td>\n",
              "      <td>37.808025</td>\n",
              "      <td>37.816837</td>\n",
              "      <td>3.632521</td>\n",
              "      <td>3.632754</td>\n",
              "      <td>2.859004</td>\n",
              "      <td>2.859004</td>\n",
              "      <td>3.632404</td>\n",
              "      <td>3.632960</td>\n",
              "      <td>0.0</td>\n",
              "      <td>1.0</td>\n",
              "      <td>1.0</td>\n",
              "      <td>-11.297376</td>\n",
              "      <td>1.0</td>\n",
              "      <td>0.000024</td>\n",
              "    </tr>\n",
              "  </tbody>\n",
              "</table>\n",
              "<p>100 rows × 24 columns</p>\n",
              "</div>\n",
              "      <button class=\"colab-df-convert\" onclick=\"convertToInteractive('df-0528b61b-bae0-4b5b-9ba1-7b04e7bfc822')\"\n",
              "              title=\"Convert this dataframe to an interactive table.\"\n",
              "              style=\"display:none;\">\n",
              "        \n",
              "  <svg xmlns=\"http://www.w3.org/2000/svg\" height=\"24px\"viewBox=\"0 0 24 24\"\n",
              "       width=\"24px\">\n",
              "    <path d=\"M0 0h24v24H0V0z\" fill=\"none\"/>\n",
              "    <path d=\"M18.56 5.44l.94 2.06.94-2.06 2.06-.94-2.06-.94-.94-2.06-.94 2.06-2.06.94zm-11 1L8.5 8.5l.94-2.06 2.06-.94-2.06-.94L8.5 2.5l-.94 2.06-2.06.94zm10 10l.94 2.06.94-2.06 2.06-.94-2.06-.94-.94-2.06-.94 2.06-2.06.94z\"/><path d=\"M17.41 7.96l-1.37-1.37c-.4-.4-.92-.59-1.43-.59-.52 0-1.04.2-1.43.59L10.3 9.45l-7.72 7.72c-.78.78-.78 2.05 0 2.83L4 21.41c.39.39.9.59 1.41.59.51 0 1.02-.2 1.41-.59l7.78-7.78 2.81-2.81c.8-.78.8-2.07 0-2.86zM5.41 20L4 18.59l7.72-7.72 1.47 1.35L5.41 20z\"/>\n",
              "  </svg>\n",
              "      </button>\n",
              "      \n",
              "  <style>\n",
              "    .colab-df-container {\n",
              "      display:flex;\n",
              "      flex-wrap:wrap;\n",
              "      gap: 12px;\n",
              "    }\n",
              "\n",
              "    .colab-df-convert {\n",
              "      background-color: #E8F0FE;\n",
              "      border: none;\n",
              "      border-radius: 50%;\n",
              "      cursor: pointer;\n",
              "      display: none;\n",
              "      fill: #1967D2;\n",
              "      height: 32px;\n",
              "      padding: 0 0 0 0;\n",
              "      width: 32px;\n",
              "    }\n",
              "\n",
              "    .colab-df-convert:hover {\n",
              "      background-color: #E2EBFA;\n",
              "      box-shadow: 0px 1px 2px rgba(60, 64, 67, 0.3), 0px 1px 3px 1px rgba(60, 64, 67, 0.15);\n",
              "      fill: #174EA6;\n",
              "    }\n",
              "\n",
              "    [theme=dark] .colab-df-convert {\n",
              "      background-color: #3B4455;\n",
              "      fill: #D2E3FC;\n",
              "    }\n",
              "\n",
              "    [theme=dark] .colab-df-convert:hover {\n",
              "      background-color: #434B5C;\n",
              "      box-shadow: 0px 1px 3px 1px rgba(0, 0, 0, 0.15);\n",
              "      filter: drop-shadow(0px 1px 2px rgba(0, 0, 0, 0.3));\n",
              "      fill: #FFFFFF;\n",
              "    }\n",
              "  </style>\n",
              "\n",
              "      <script>\n",
              "        const buttonEl =\n",
              "          document.querySelector('#df-0528b61b-bae0-4b5b-9ba1-7b04e7bfc822 button.colab-df-convert');\n",
              "        buttonEl.style.display =\n",
              "          google.colab.kernel.accessAllowed ? 'block' : 'none';\n",
              "\n",
              "        async function convertToInteractive(key) {\n",
              "          const element = document.querySelector('#df-0528b61b-bae0-4b5b-9ba1-7b04e7bfc822');\n",
              "          const dataTable =\n",
              "            await google.colab.kernel.invokeFunction('convertToInteractive',\n",
              "                                                     [key], {});\n",
              "          if (!dataTable) return;\n",
              "\n",
              "          const docLinkHtml = 'Like what you see? Visit the ' +\n",
              "            '<a target=\"_blank\" href=https://colab.research.google.com/notebooks/data_table.ipynb>data table notebook</a>'\n",
              "            + ' to learn more about interactive tables.';\n",
              "          element.innerHTML = '';\n",
              "          dataTable['output_type'] = 'display_data';\n",
              "          await google.colab.output.renderOutput(dataTable, element);\n",
              "          const docLink = document.createElement('div');\n",
              "          docLink.innerHTML = docLinkHtml;\n",
              "          element.appendChild(docLink);\n",
              "        }\n",
              "      </script>\n",
              "    </div>\n",
              "  </div>\n",
              "  "
            ],
            "text/plain": [
              "            Count       Open      High  ...      willr  willr_flag   log_ret\n",
              "timestamp                               ...                                 \n",
              "1569379860   42.0   16.22250   16.3030  ... -51.258532         0.0  0.000755\n",
              "1583659860   37.0   19.47090   19.4709  ... -46.725860         0.0 -0.000915\n",
              "1624575300  322.0  308.62350  309.4100  ... -26.190476         0.0  0.002541\n",
              "1556808120  128.0   23.95070   23.9570  ... -50.335731         0.0 -0.001383\n",
              "1551484320  168.0   11.30770   11.3131  ... -79.615953         0.0 -0.000513\n",
              "...           ...        ...       ...  ...        ...         ...       ...\n",
              "1624849440  229.0  287.59800  287.8000  ... -20.760870         0.0  0.001362\n",
              "1598284020   41.0   22.51480   22.5335  ...  -6.904488         1.0  0.000235\n",
              "1561690860   96.0   34.15615   34.2554  ... -79.681763         0.0  0.001092\n",
              "1526032620   40.0   13.11510   13.1629  ... -26.982316         0.0  0.001883\n",
              "1609363500   63.0   37.84500   37.8873  ... -11.297376         1.0  0.000024\n",
              "\n",
              "[100 rows x 24 columns]"
            ]
          },
          "metadata": {},
          "execution_count": 31
        }
      ]
    },
    {
      "cell_type": "markdown",
      "source": [
        "## 3.2 Features específicas (opcionais)"
      ],
      "metadata": {
        "id": "NneI_-HbJgmh"
      }
    },
    {
      "cell_type": "markdown",
      "source": [
        "### 3.2.1 BTC"
      ],
      "metadata": {
        "id": "-zqviE18Jgmh"
      }
    },
    {
      "cell_type": "code",
      "source": [
        ""
      ],
      "metadata": {
        "id": "xLWVFW7_Jgmh"
      },
      "execution_count": null,
      "outputs": []
    },
    {
      "cell_type": "markdown",
      "source": [
        "### 3.2.1 ETH"
      ],
      "metadata": {
        "execution": {
          "iopub.status.busy": "2022-01-19T02:56:20.353858Z",
          "iopub.execute_input": "2022-01-19T02:56:20.354361Z",
          "iopub.status.idle": "2022-01-19T02:56:20.359974Z",
          "shell.execute_reply.started": "2022-01-19T02:56:20.35432Z",
          "shell.execute_reply": "2022-01-19T02:56:20.358939Z"
        },
        "id": "c_TLQZJ7Jgmh"
      }
    },
    {
      "cell_type": "code",
      "source": [
        ""
      ],
      "metadata": {
        "id": "ba53Ikj5Jgmh"
      },
      "execution_count": null,
      "outputs": []
    },
    {
      "cell_type": "markdown",
      "source": [
        "# 4. Modelagem"
      ],
      "metadata": {
        "id": "wdIMnIDuJgmh"
      }
    },
    {
      "cell_type": "markdown",
      "source": [
        "## 4.1 Quebra de treino/validação/teste"
      ],
      "metadata": {
        "id": "iPfONeuYJgmh"
      }
    },
    {
      "cell_type": "code",
      "source": [
        "list_periodos = []\n",
        "\n",
        "for asset in base_treino.Asset_ID.unique():\n",
        "    maximo = base_treino[base_treino.Asset_ID == asset].timestamp.max()\n",
        "    minimo = base_treino[base_treino.Asset_ID == asset].timestamp.min()\n",
        "    list_periodos.append([asset,minimo,maximo])\n",
        "    \n",
        "df_periodos = pd.DataFrame(list_periodos, columns=['asset','min','max'])\n",
        "df_periodos['min'] = pd.to_datetime(df_periodos['min'], unit='s')\n",
        "df_periodos['max'] = pd.to_datetime(df_periodos['max'], unit='s')\n",
        "df_periodos.sort_values('min')"
      ],
      "metadata": {
        "execution": {
          "iopub.status.busy": "2022-02-01T23:38:04.703678Z",
          "iopub.status.idle": "2022-02-01T23:38:04.704018Z",
          "shell.execute_reply.started": "2022-02-01T23:38:04.703837Z",
          "shell.execute_reply": "2022-02-01T23:38:04.703860Z"
        },
        "trusted": true,
        "colab": {
          "base_uri": "https://localhost:8080/",
          "height": 488
        },
        "id": "0odJM7i9Jgmi",
        "outputId": "9f79d7a2-5a70-44d1-c329-f9b2c540ab8e"
      },
      "execution_count": 32,
      "outputs": [
        {
          "output_type": "execute_result",
          "data": {
            "text/html": [
              "\n",
              "  <div id=\"df-a64322df-82ed-4bd5-af9b-dbd49c26dc9c\">\n",
              "    <div class=\"colab-df-container\">\n",
              "      <div>\n",
              "<style scoped>\n",
              "    .dataframe tbody tr th:only-of-type {\n",
              "        vertical-align: middle;\n",
              "    }\n",
              "\n",
              "    .dataframe tbody tr th {\n",
              "        vertical-align: top;\n",
              "    }\n",
              "\n",
              "    .dataframe thead th {\n",
              "        text-align: right;\n",
              "    }\n",
              "</style>\n",
              "<table border=\"1\" class=\"dataframe\">\n",
              "  <thead>\n",
              "    <tr style=\"text-align: right;\">\n",
              "      <th></th>\n",
              "      <th>asset</th>\n",
              "      <th>min</th>\n",
              "      <th>max</th>\n",
              "    </tr>\n",
              "  </thead>\n",
              "  <tbody>\n",
              "    <tr>\n",
              "      <th>0</th>\n",
              "      <td>2</td>\n",
              "      <td>2018-01-01 00:01:00</td>\n",
              "      <td>2021-09-21</td>\n",
              "    </tr>\n",
              "    <tr>\n",
              "      <th>1</th>\n",
              "      <td>0</td>\n",
              "      <td>2018-01-01 00:01:00</td>\n",
              "      <td>2021-09-21</td>\n",
              "    </tr>\n",
              "    <tr>\n",
              "      <th>2</th>\n",
              "      <td>1</td>\n",
              "      <td>2018-01-01 00:01:00</td>\n",
              "      <td>2021-09-21</td>\n",
              "    </tr>\n",
              "    <tr>\n",
              "      <th>3</th>\n",
              "      <td>5</td>\n",
              "      <td>2018-01-01 00:01:00</td>\n",
              "      <td>2021-09-21</td>\n",
              "    </tr>\n",
              "    <tr>\n",
              "      <th>4</th>\n",
              "      <td>7</td>\n",
              "      <td>2018-01-01 00:01:00</td>\n",
              "      <td>2021-09-21</td>\n",
              "    </tr>\n",
              "    <tr>\n",
              "      <th>5</th>\n",
              "      <td>6</td>\n",
              "      <td>2018-01-01 00:01:00</td>\n",
              "      <td>2021-09-21</td>\n",
              "    </tr>\n",
              "    <tr>\n",
              "      <th>6</th>\n",
              "      <td>9</td>\n",
              "      <td>2018-01-01 00:01:00</td>\n",
              "      <td>2021-09-21</td>\n",
              "    </tr>\n",
              "    <tr>\n",
              "      <th>7</th>\n",
              "      <td>11</td>\n",
              "      <td>2018-01-01 00:01:00</td>\n",
              "      <td>2021-09-21</td>\n",
              "    </tr>\n",
              "    <tr>\n",
              "      <th>8</th>\n",
              "      <td>13</td>\n",
              "      <td>2018-02-06 21:37:00</td>\n",
              "      <td>2021-09-21</td>\n",
              "    </tr>\n",
              "    <tr>\n",
              "      <th>9</th>\n",
              "      <td>12</td>\n",
              "      <td>2018-02-16 23:53:00</td>\n",
              "      <td>2021-09-21</td>\n",
              "    </tr>\n",
              "    <tr>\n",
              "      <th>10</th>\n",
              "      <td>3</td>\n",
              "      <td>2018-04-17 09:11:00</td>\n",
              "      <td>2021-09-21</td>\n",
              "    </tr>\n",
              "    <tr>\n",
              "      <th>11</th>\n",
              "      <td>8</td>\n",
              "      <td>2018-05-09 08:07:00</td>\n",
              "      <td>2021-09-21</td>\n",
              "    </tr>\n",
              "    <tr>\n",
              "      <th>12</th>\n",
              "      <td>10</td>\n",
              "      <td>2018-05-10 15:21:00</td>\n",
              "      <td>2021-09-21</td>\n",
              "    </tr>\n",
              "    <tr>\n",
              "      <th>13</th>\n",
              "      <td>4</td>\n",
              "      <td>2019-04-12 14:34:00</td>\n",
              "      <td>2021-09-21</td>\n",
              "    </tr>\n",
              "  </tbody>\n",
              "</table>\n",
              "</div>\n",
              "      <button class=\"colab-df-convert\" onclick=\"convertToInteractive('df-a64322df-82ed-4bd5-af9b-dbd49c26dc9c')\"\n",
              "              title=\"Convert this dataframe to an interactive table.\"\n",
              "              style=\"display:none;\">\n",
              "        \n",
              "  <svg xmlns=\"http://www.w3.org/2000/svg\" height=\"24px\"viewBox=\"0 0 24 24\"\n",
              "       width=\"24px\">\n",
              "    <path d=\"M0 0h24v24H0V0z\" fill=\"none\"/>\n",
              "    <path d=\"M18.56 5.44l.94 2.06.94-2.06 2.06-.94-2.06-.94-.94-2.06-.94 2.06-2.06.94zm-11 1L8.5 8.5l.94-2.06 2.06-.94-2.06-.94L8.5 2.5l-.94 2.06-2.06.94zm10 10l.94 2.06.94-2.06 2.06-.94-2.06-.94-.94-2.06-.94 2.06-2.06.94z\"/><path d=\"M17.41 7.96l-1.37-1.37c-.4-.4-.92-.59-1.43-.59-.52 0-1.04.2-1.43.59L10.3 9.45l-7.72 7.72c-.78.78-.78 2.05 0 2.83L4 21.41c.39.39.9.59 1.41.59.51 0 1.02-.2 1.41-.59l7.78-7.78 2.81-2.81c.8-.78.8-2.07 0-2.86zM5.41 20L4 18.59l7.72-7.72 1.47 1.35L5.41 20z\"/>\n",
              "  </svg>\n",
              "      </button>\n",
              "      \n",
              "  <style>\n",
              "    .colab-df-container {\n",
              "      display:flex;\n",
              "      flex-wrap:wrap;\n",
              "      gap: 12px;\n",
              "    }\n",
              "\n",
              "    .colab-df-convert {\n",
              "      background-color: #E8F0FE;\n",
              "      border: none;\n",
              "      border-radius: 50%;\n",
              "      cursor: pointer;\n",
              "      display: none;\n",
              "      fill: #1967D2;\n",
              "      height: 32px;\n",
              "      padding: 0 0 0 0;\n",
              "      width: 32px;\n",
              "    }\n",
              "\n",
              "    .colab-df-convert:hover {\n",
              "      background-color: #E2EBFA;\n",
              "      box-shadow: 0px 1px 2px rgba(60, 64, 67, 0.3), 0px 1px 3px 1px rgba(60, 64, 67, 0.15);\n",
              "      fill: #174EA6;\n",
              "    }\n",
              "\n",
              "    [theme=dark] .colab-df-convert {\n",
              "      background-color: #3B4455;\n",
              "      fill: #D2E3FC;\n",
              "    }\n",
              "\n",
              "    [theme=dark] .colab-df-convert:hover {\n",
              "      background-color: #434B5C;\n",
              "      box-shadow: 0px 1px 3px 1px rgba(0, 0, 0, 0.15);\n",
              "      filter: drop-shadow(0px 1px 2px rgba(0, 0, 0, 0.3));\n",
              "      fill: #FFFFFF;\n",
              "    }\n",
              "  </style>\n",
              "\n",
              "      <script>\n",
              "        const buttonEl =\n",
              "          document.querySelector('#df-a64322df-82ed-4bd5-af9b-dbd49c26dc9c button.colab-df-convert');\n",
              "        buttonEl.style.display =\n",
              "          google.colab.kernel.accessAllowed ? 'block' : 'none';\n",
              "\n",
              "        async function convertToInteractive(key) {\n",
              "          const element = document.querySelector('#df-a64322df-82ed-4bd5-af9b-dbd49c26dc9c');\n",
              "          const dataTable =\n",
              "            await google.colab.kernel.invokeFunction('convertToInteractive',\n",
              "                                                     [key], {});\n",
              "          if (!dataTable) return;\n",
              "\n",
              "          const docLinkHtml = 'Like what you see? Visit the ' +\n",
              "            '<a target=\"_blank\" href=https://colab.research.google.com/notebooks/data_table.ipynb>data table notebook</a>'\n",
              "            + ' to learn more about interactive tables.';\n",
              "          element.innerHTML = '';\n",
              "          dataTable['output_type'] = 'display_data';\n",
              "          await google.colab.output.renderOutput(dataTable, element);\n",
              "          const docLink = document.createElement('div');\n",
              "          docLink.innerHTML = docLinkHtml;\n",
              "          element.appendChild(docLink);\n",
              "        }\n",
              "      </script>\n",
              "    </div>\n",
              "  </div>\n",
              "  "
            ],
            "text/plain": [
              "    asset                 min        max\n",
              "0       2 2018-01-01 00:01:00 2021-09-21\n",
              "1       0 2018-01-01 00:01:00 2021-09-21\n",
              "2       1 2018-01-01 00:01:00 2021-09-21\n",
              "3       5 2018-01-01 00:01:00 2021-09-21\n",
              "4       7 2018-01-01 00:01:00 2021-09-21\n",
              "5       6 2018-01-01 00:01:00 2021-09-21\n",
              "6       9 2018-01-01 00:01:00 2021-09-21\n",
              "7      11 2018-01-01 00:01:00 2021-09-21\n",
              "8      13 2018-02-06 21:37:00 2021-09-21\n",
              "9      12 2018-02-16 23:53:00 2021-09-21\n",
              "10      3 2018-04-17 09:11:00 2021-09-21\n",
              "11      8 2018-05-09 08:07:00 2021-09-21\n",
              "12     10 2018-05-10 15:21:00 2021-09-21\n",
              "13      4 2019-04-12 14:34:00 2021-09-21"
            ]
          },
          "metadata": {},
          "execution_count": 32
        }
      ]
    },
    {
      "cell_type": "code",
      "source": [
        "from sklearn.preprocessing import StandardScaler\n",
        "\n",
        "assets_scalers = {\n",
        "    asset: StandardScaler() for asset in assets\n",
        "}"
      ],
      "metadata": {
        "execution": {
          "iopub.status.busy": "2022-02-01T23:38:04.705517Z",
          "iopub.status.idle": "2022-02-01T23:38:04.705859Z",
          "shell.execute_reply.started": "2022-02-01T23:38:04.705680Z",
          "shell.execute_reply": "2022-02-01T23:38:04.705703Z"
        },
        "trusted": true,
        "id": "dlj4r1XEJgmi"
      },
      "execution_count": null,
      "outputs": []
    },
    {
      "cell_type": "code",
      "source": [
        "from tqdm import tqdm\n",
        "\n",
        "DATA_CORTE = \"21/08/2021\"\n",
        "DATA_CORTE_MIN = \"13/04/2019\"\n",
        "\n",
        "\n",
        "# train_windows = {\n",
        "#     asset: [totimestamp(df_periodos.loc[df_periodos['asset'] == asset, 'min'].dt.strftime('%d/%m/%Y').item()), totimestamp(DATA_CORTE)] for asset in assets\n",
        "# }\n",
        "\n",
        "train_windows = {\n",
        "    asset: [totimestamp(DATA_CORTE_MIN), totimestamp(DATA_CORTE)] for asset in assets\n",
        "}\n",
        "\n",
        "test_window = [totimestamp(DATA_CORTE), totimestamp(\"21/09/2021\")]\n",
        "\n",
        "assets_train = {\n",
        "    asset: {\n",
        "        'features': assets_scalers[asset].fit_transform(\n",
        "            assets[asset].drop('Target', axis=1).loc[train_windows[asset][0]:train_windows[asset][1]].fillna(preenche_missing())\n",
        "            ),\n",
        "        'target': assets[asset].loc[train_windows[asset][0]:train_windows[asset][1]]['Target'].fillna(preenche_missing())} for asset in tqdm(assets)\n",
        "}\n",
        "\n",
        "assets_test = {\n",
        "    asset: {\n",
        "        'features': assets_scalers[asset].transform(\n",
        "            assets[asset].drop('Target', axis=1).loc[test_window[0]:test_window[1]].fillna(preenche_missing())\n",
        "            ),\n",
        "        'target': assets[asset].loc[test_window[0]:test_window[1]]['Target'].fillna(preenche_missing())} for asset in tqdm(assets)\n",
        "}"
      ],
      "metadata": {
        "execution": {
          "iopub.status.busy": "2022-02-01T23:38:04.708004Z",
          "iopub.status.idle": "2022-02-01T23:38:04.708382Z",
          "shell.execute_reply.started": "2022-02-01T23:38:04.708203Z",
          "shell.execute_reply": "2022-02-01T23:38:04.708222Z"
        },
        "trusted": true,
        "colab": {
          "base_uri": "https://localhost:8080/",
          "height": 234
        },
        "id": "SssofWj2Jgmi",
        "outputId": "3a1c9fed-1737-4137-cdf0-d74155e02142"
      },
      "execution_count": null,
      "outputs": [
        {
          "output_type": "error",
          "ename": "NameError",
          "evalue": "ignored",
          "traceback": [
            "\u001b[0;31m---------------------------------------------------------------------------\u001b[0m",
            "\u001b[0;31mNameError\u001b[0m                                 Traceback (most recent call last)",
            "\u001b[0;32m<ipython-input-1-e9d71128b8b9>\u001b[0m in \u001b[0;36m<module>\u001b[0;34m()\u001b[0m\n\u001b[1;32m     10\u001b[0m \u001b[0;34m\u001b[0m\u001b[0m\n\u001b[1;32m     11\u001b[0m train_windows = {\n\u001b[0;32m---> 12\u001b[0;31m     \u001b[0masset\u001b[0m\u001b[0;34m:\u001b[0m \u001b[0;34m[\u001b[0m\u001b[0mtotimestamp\u001b[0m\u001b[0;34m(\u001b[0m\u001b[0mDATA_CORTE_MIN\u001b[0m\u001b[0;34m)\u001b[0m\u001b[0;34m,\u001b[0m \u001b[0mtotimestamp\u001b[0m\u001b[0;34m(\u001b[0m\u001b[0mDATA_CORTE\u001b[0m\u001b[0;34m)\u001b[0m\u001b[0;34m]\u001b[0m \u001b[0;32mfor\u001b[0m \u001b[0masset\u001b[0m \u001b[0;32min\u001b[0m \u001b[0massets\u001b[0m\u001b[0;34m\u001b[0m\u001b[0;34m\u001b[0m\u001b[0m\n\u001b[0m\u001b[1;32m     13\u001b[0m }\n\u001b[1;32m     14\u001b[0m \u001b[0;34m\u001b[0m\u001b[0m\n",
            "\u001b[0;31mNameError\u001b[0m: name 'assets' is not defined"
          ]
        }
      ]
    },
    {
      "cell_type": "code",
      "source": [
        "assets_train[8].shape"
      ],
      "metadata": {
        "execution": {
          "iopub.status.busy": "2022-02-01T23:38:04.709415Z",
          "iopub.status.idle": "2022-02-01T23:38:04.709760Z",
          "shell.execute_reply.started": "2022-02-01T23:38:04.709584Z",
          "shell.execute_reply": "2022-02-01T23:38:04.709607Z"
        },
        "trusted": true,
        "id": "UIR3TdT0Jgmi"
      },
      "execution_count": null,
      "outputs": []
    },
    {
      "cell_type": "markdown",
      "source": [
        "## 4.2 Modelo baseline"
      ],
      "metadata": {
        "execution": {
          "iopub.status.busy": "2022-01-19T02:57:54.394902Z",
          "iopub.execute_input": "2022-01-19T02:57:54.395341Z",
          "iopub.status.idle": "2022-01-19T02:57:54.401056Z",
          "shell.execute_reply.started": "2022-01-19T02:57:54.3953Z",
          "shell.execute_reply": "2022-01-19T02:57:54.399844Z"
        },
        "id": "qlOy9dNyJgmi"
      }
    },
    {
      "cell_type": "code",
      "source": [
        "class BaselineModel:\n",
        "    def __init__(self):\n",
        "        pass\n",
        "    \n",
        "    def fit(self, x_train, y_train):\n",
        "        self.x_train = x_train\n",
        "        self.y_train = y_train\n",
        "\n",
        "    \n",
        "    def predict(self, x):\n",
        "        "
      ],
      "metadata": {
        "execution": {
          "iopub.status.busy": "2022-02-01T23:38:04.711367Z",
          "iopub.status.idle": "2022-02-01T23:38:04.711705Z",
          "shell.execute_reply.started": "2022-02-01T23:38:04.711530Z",
          "shell.execute_reply": "2022-02-01T23:38:04.711552Z"
        },
        "trusted": true,
        "id": "B5ZATVXZJgmj"
      },
      "execution_count": null,
      "outputs": []
    },
    {
      "cell_type": "markdown",
      "source": [
        "## 4.3 Modelagem freestyle"
      ],
      "metadata": {
        "id": "2_gMRgPnJgmj"
      }
    },
    {
      "cell_type": "code",
      "source": [
        ""
      ],
      "metadata": {
        "id": "e3lkbfXUJgmj"
      },
      "execution_count": null,
      "outputs": []
    },
    {
      "cell_type": "code",
      "source": [
        ""
      ],
      "metadata": {
        "id": "n5YGY9YklbdZ"
      },
      "execution_count": null,
      "outputs": []
    },
    {
      "cell_type": "code",
      "source": [
        "##4.4 Modelagem Marcelo"
      ],
      "metadata": {
        "id": "5IY80LMuklN-"
      },
      "execution_count": 33,
      "outputs": []
    },
    {
      "cell_type": "code",
      "source": [
        "def get_Xy_and_model_for_asset(df_proc):\n",
        "    from lightgbm import LGBMRegressor\n",
        "    df_proc = df_proc.replace([np.inf, -np.inf], np.nan).dropna(how=\"any\")\n",
        "    \n",
        "    X = np.array(df_proc.drop(['Open', 'High', 'Low', 'Close', 'Volume', 'VWAP','Target'], axis=1))\n",
        "    y = np.array(df_proc[\"Target\"])\n",
        "\n",
        "    model = LGBMRegressor( \n",
        "                          n_estimators = 800, \n",
        "                          learning_rate = 0.01, \n",
        "                          max_bin = 15, \n",
        "                          num_leaves = 100\n",
        "                        \n",
        "                          )\n",
        "    model.fit(X, y)\n",
        "    return X, y, model"
      ],
      "metadata": {
        "id": "u9hfqCB8k3Dk"
      },
      "execution_count": null,
      "outputs": []
    },
    {
      "cell_type": "code",
      "source": [
        "Xs = {}\n",
        "ys = {}\n",
        "models = {}"
      ],
      "metadata": {
        "id": "_71RzxJqlYiD"
      },
      "execution_count": null,
      "outputs": []
    },
    {
      "cell_type": "code",
      "source": [
        "X, y, model = get_Xy_and_model_for_asset(assets[i])"
      ],
      "metadata": {
        "id": "0WjimIKClcvD"
      },
      "execution_count": null,
      "outputs": []
    },
    {
      "cell_type": "code",
      "source": [
        "Xs = {}\n",
        "ys = {}\n",
        "models = {}\n",
        "for asset_id in list(list_id):\n",
        "    X, y, model = get_Xy_and_model_for_asset(assets[asset_id])\n",
        "    Xs[asset_id], ys[asset_id], models[asset_id] = X, y, model\n",
        "print(\"Models training finished\")"
      ],
      "metadata": {
        "id": "m-ND-Mv_lhQl"
      },
      "execution_count": null,
      "outputs": []
    },
    {
      "cell_type": "code",
      "source": [
        "fi_df = pd.DataFrame()\n",
        "fi_df['features'] = assets[1].drop(['Open', 'High', 'Low', 'Close', 'Volume', 'VWAP','Target'],axis=1).columns\n",
        "fi_df['importance'] = models[1].booster_.feature_importance(importance_type=\"gain\")"
      ],
      "metadata": {
        "id": "_cieJ80jlkZr"
      },
      "execution_count": null,
      "outputs": []
    },
    {
      "cell_type": "code",
      "source": [
        "from sklearn.metrics import mean_absolute_error, mean_squared_error\n",
        "print(f'MAE Of model : {mean_absolute_error(ys[0], models[0].predict(Xs[0])):.6f}')\n",
        "print(f'MSE Of model : {mean_squared_error(ys[0], models[0].predict(Xs[0])):.6f}')\n",
        "print('*'*15,'The evaluation done','*'*15) "
      ],
      "metadata": {
        "id": "Yit744KMlpRl"
      },
      "execution_count": null,
      "outputs": []
    },
    {
      "cell_type": "code",
      "source": [
        "# plot feature importance\n",
        "import matplotlib.pyplot as plt\n",
        "import seaborn as sns\n",
        "fig, ax = plt.subplots(1, 1, figsize=(7, 15))\n",
        "sns.barplot(\n",
        "    x='importance'\n",
        "    , y='features'\n",
        "    , data=fi_df.sort_values(by=['importance'], ascending=False)\n",
        "    , ax=ax\n",
        ")"
      ],
      "metadata": {
        "id": "Q0yD7RsKlp73"
      },
      "execution_count": null,
      "outputs": []
    },
    {
      "cell_type": "markdown",
      "source": [
        "# 5. Avaliação dos resultados"
      ],
      "metadata": {
        "id": "zVGyGSjqJgmj"
      }
    },
    {
      "cell_type": "code",
      "source": [
        "\n",
        "\n",
        "\n",
        "\n"
      ],
      "metadata": {
        "trusted": true,
        "id": "jr2WcjFvJgmj"
      },
      "execution_count": null,
      "outputs": []
    }
  ]
}